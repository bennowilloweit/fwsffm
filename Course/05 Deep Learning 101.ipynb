{
 "cells": [
  {
   "cell_type": "markdown",
   "id": "7db2a08c-c95e-4651-8c41-91a5ada68e44",
   "metadata": {},
   "source": [
    "# Einführung Neuronale Netze (Deep Learning)"
   ]
  },
  {
   "cell_type": "markdown",
   "id": "ea680c03-6378-4f86-9882-4516dd5ebbfe",
   "metadata": {},
   "source": [
    "## Wiederholung\n",
    "\n",
    "Blick auf die Ergebnissse, die wir mit Schätzung und einem einfachen Machine Learning Modell erzielt haben"
   ]
  },
  {
   "cell_type": "code",
   "execution_count": null,
   "id": "f9df69b7-0eb8-463a-a47f-6fa233953580",
   "metadata": {},
   "outputs": [],
   "source": [
    "from micrograd.engine import Value\n",
    "from micrograd.nn import Neuron, Layer, MLP\n",
    "from micrograd.graph import draw_dot\n",
    "\n",
    "import pandas as pd\n",
    "import numpy as np\n",
    "import matplotlib.pyplot as plt"
   ]
  },
  {
   "cell_type": "code",
   "execution_count": null,
   "id": "03d09f93-dba3-4c7f-a54d-88eca421027a",
   "metadata": {},
   "outputs": [],
   "source": [
    "df = pd.read_csv('data/eis.csv')\n",
    "df.head(10)"
   ]
  },
  {
   "cell_type": "code",
   "execution_count": null,
   "id": "c9fb03b7-1e88-4f19-93f6-3dddc22299f0",
   "metadata": {},
   "outputs": [],
   "source": [
    "print(\"Durchschnittlicher Fehler\")\n",
    "print(f'Schätzung {np.mean(df[\"Fehler\"].to_list())}')\n",
    "print(f'Machine Learning {np.mean(df[\"Fehler_ML\"].to_list())}')"
   ]
  },
  {
   "cell_type": "code",
   "execution_count": null,
   "id": "09622f80-a282-4c4d-884f-b33504a4d5f1",
   "metadata": {},
   "outputs": [],
   "source": [
    "ax=df.plot.scatter(x='Temperatur', y=['Eis'], c='blue')\n",
    "df.plot.scatter(x='Temperatur', y=['Eis_Vorhersage'], c='red',ax=ax)\n",
    "df.plot.scatter(x='Temperatur', y=['Eis_Vorhersage_ML'], c='purple',ax=ax)\n",
    "plt.show()"
   ]
  },
  {
   "cell_type": "markdown",
   "id": "71c82d48-c944-4478-94cc-91cf472ebbdf",
   "metadata": {},
   "source": [
    "#### Aufgabe 1\n",
    "\n",
    "##### 3 Punkte\n",
    "\n",
    "- F: Beschreiben Sie das Modell das wir trainiert haben in eigenen Worten (es geht auch in genau einem Wort):\n",
    "- A:\n",
    "- F: Wieviele Parameter hat unser erstes Modell und wie haben wir diese genannt (sie können Sie auch beschreiben)?\n",
    "- A:\n",
    "- F: Beschreiben Sie, was wir unter dem Fehler verstehen in eigenen Worten\n",
    "- A:"
   ]
  },
  {
   "cell_type": "markdown",
   "id": "7a41438c-2191-4ab9-9212-23bd6c4ced54",
   "metadata": {},
   "source": [
    "## Natürliche und künstliche Neuronen\n",
    "\n",
    "<img src=\"img/04DL00.png\" alt=\"drawing\" style=\"width:800px;\"/>    "
   ]
  },
  {
   "cell_type": "code",
   "execution_count": null,
   "id": "6f4c645c-27f6-410d-acfa-9ee21c7f4298",
   "metadata": {},
   "outputs": [],
   "source": [
    "def berechne_fehler(ist, vorhersage):\n",
    "    fehler_liste = []\n",
    "    for ist_wert, vorhersage_wert in zip(ist, vorhersage):\n",
    "        fehler = (ist_wert - vorhersage_wert) * (ist_wert - vorhersage_wert)\n",
    "        fehler_liste.append(fehler)\n",
    "    return fehler_liste"
   ]
  },
  {
   "cell_type": "code",
   "execution_count": null,
   "id": "a97c88bd-132b-4760-9506-f848f60a5334",
   "metadata": {},
   "outputs": [],
   "source": [
    "def mache_vorhersage(eingangssignale, nn):\n",
    "    ausgangssignale = list(map(nn, eingangssignale))\n",
    "    return ausgangssignale"
   ]
  },
  {
   "cell_type": "code",
   "execution_count": null,
   "id": "19900f6d-e734-43f1-94fa-4504caabf017",
   "metadata": {},
   "outputs": [],
   "source": [
    "def suche(nn, uvar, ist, lernrate, schritte):\n",
    "    ist = np.atleast_2d(np.array(ist, dtype=np.float32)).T\n",
    "    eingangssignale = np.atleast_2d(np.array(uvar, dtype=np.float32)).T\n",
    "    for i in range(schritte): \n",
    "        vorhersage = mache_vorhersage(eingangssignale, nn)\n",
    "        fehler = np.sum(berechne_fehler(ist, vorhersage)) / len(ist)\n",
    "\n",
    "        nn.zero_grad()\n",
    "        fehler.backward()\n",
    "\n",
    "        for p in nn.parameters():\n",
    "            p.data -= lernrate * p.grad\n",
    "\n",
    "        if i % 100 == 0:\n",
    "            print(f\"step {i} loss {fehler.data}\")    "
   ]
  },
  {
   "cell_type": "markdown",
   "id": "38617769-dd8e-4262-a6cb-2d7d9c227344",
   "metadata": {},
   "source": [
    "## Ein einsames Neuron"
   ]
  },
  {
   "cell_type": "code",
   "execution_count": null,
   "id": "30ee0b9b-b7f3-4554-8e43-2d6352e086a6",
   "metadata": {},
   "outputs": [],
   "source": [
    "n = Neuron(1, nonlin=None)\n",
    "print(n)\n",
    "print(\"number of parameters\", len(n.parameters()))"
   ]
  },
  {
   "cell_type": "code",
   "execution_count": null,
   "id": "0c98cf5a-82c7-458e-918c-63dcd1c1f5e4",
   "metadata": {},
   "outputs": [],
   "source": [
    "temp = 20"
   ]
  },
  {
   "cell_type": "code",
   "execution_count": null,
   "id": "036bc72c-6d4b-4948-ad89-e715c46ed8eb",
   "metadata": {},
   "outputs": [],
   "source": [
    "eis = n([temp])\n",
    "w_initial = n.parameters()[0].data\n",
    "b_initial = n.parameters()[1].data\n",
    "print(f\"eis = {temp} * {w_initial} + {b_initial} = {eis.data}\")"
   ]
  },
  {
   "cell_type": "code",
   "execution_count": null,
   "id": "552f98ec-c747-4ea3-b5cf-13f4b0e52fe6",
   "metadata": {},
   "outputs": [],
   "source": [
    "draw_dot(eis)"
   ]
  },
  {
   "cell_type": "markdown",
   "id": "c1c50445-5355-48d1-93b1-1865eb96cf58",
   "metadata": {},
   "source": [
    "#### Aufgabe 2\n",
    "\n",
    "##### 2 Punkte\n",
    "\n",
    "Führen Sie alle vier Zellen oberhalb dieser Aufgabe wiederholt hintereinander aus.\n",
    "\n",
    "- F: Was verändert sich dabei alles?\n",
    "- A:\n",
    "- F: Was ist der zusammenhang zwischen dem Schaubild oben und der Rechnung darüber?\n",
    "- A:"
   ]
  },
  {
   "cell_type": "markdown",
   "id": "31925be8-2ead-4682-a189-9bf654caabf7",
   "metadata": {},
   "source": [
    "## Ein Neuron lernt"
   ]
  },
  {
   "cell_type": "code",
   "execution_count": null,
   "id": "262c8979-ac86-4214-8c15-14e77269763a",
   "metadata": {},
   "outputs": [],
   "source": [
    "n = Neuron(1, nonlin=None)\n",
    "suche(n, df[\"Temperatur\"].to_list(), df[\"Eis\"].to_list(), 0.002, 1)\n",
    "eis = n([temp])\n",
    "draw_dot(eis)"
   ]
  },
  {
   "cell_type": "code",
   "execution_count": null,
   "id": "8a09bacb-b020-44bd-b0fe-c1c4c96b0f02",
   "metadata": {},
   "outputs": [],
   "source": [
    "suche(n, df[\"Temperatur\"].to_list(), df[\"Eis\"].to_list(), 0.002, 1)\n",
    "eis = n([temp])\n",
    "draw_dot(eis)"
   ]
  },
  {
   "cell_type": "code",
   "execution_count": null,
   "id": "6b3b0568-ad1e-4f10-afc5-d7d22d39dab1",
   "metadata": {},
   "outputs": [],
   "source": [
    "suche(n, df[\"Temperatur\"].to_list(), df[\"Eis\"].to_list(), 0.002, 1)\n",
    "eis = n([temp])\n",
    "draw_dot(eis)"
   ]
  },
  {
   "cell_type": "markdown",
   "id": "9f5ad14d-303c-4137-8403-0dc3bb0005ec",
   "metadata": {},
   "source": [
    "#### Aufgabe 3\n",
    "\n",
    "##### 2 Punkte\n",
    "\n",
    "Vergleichen Sie die drei Lernschritte oben. \n",
    "\n",
    "- F: Wie verändern sich die Daten des Parameters links unten und in der Mitte oben im Vergleich zum jeweiligen Gradient?\n",
    "- A:\n",
    "- F: Beschreiben Sie die Wirkung des Gradienten in eigenen Wortenm\n",
    "- A:"
   ]
  },
  {
   "cell_type": "markdown",
   "id": "224cb810-29ee-4b4e-9811-2c4b856ee908",
   "metadata": {},
   "source": [
    "### Wir gehen wieder viele Schritte"
   ]
  },
  {
   "cell_type": "code",
   "execution_count": null,
   "id": "8151943e-181b-47bc-a3a1-7166aa4baa2c",
   "metadata": {},
   "outputs": [],
   "source": [
    "lernrate = 0.002\n",
    "schritte = 1000"
   ]
  },
  {
   "cell_type": "code",
   "execution_count": null,
   "id": "42c6b4e2-6bce-4574-956b-f9c0a259492b",
   "metadata": {},
   "outputs": [],
   "source": [
    "suche(n, df[\"Temperatur\"].to_list(), df[\"Eis\"].to_list(), lernrate, schritte)\n",
    "w_trainiert = n.parameters()[0].data\n",
    "b_trainiert = n.parameters()[1].data\n",
    "eis = n([temp])\n",
    "print(f\"eis = {temp} * {w_trainiert} + {b_trainiert} = {eis.data}\")"
   ]
  },
  {
   "cell_type": "code",
   "execution_count": null,
   "id": "55dede77-9312-48cb-86ae-a31f3a7bec39",
   "metadata": {},
   "outputs": [],
   "source": [
    "draw_dot(eis)"
   ]
  },
  {
   "cell_type": "code",
   "execution_count": null,
   "id": "29aa7a54-7a89-42d6-9d91-b66b2681693a",
   "metadata": {},
   "outputs": [],
   "source": [
    "eingangssignale = np.atleast_2d(df[\"Temperatur\"].to_numpy(dtype=np.float32)).T\n",
    "df[\"Eis_Vorhersage_N\"] = [v.data for v in mache_vorhersage(eingangssignale, n)]\n",
    "df[\"Fehler_N\"] = berechne_fehler(df[\"Eis\"].to_list(), df[\"Eis_Vorhersage_N\"].to_list())\n",
    "df.head(10)"
   ]
  },
  {
   "cell_type": "code",
   "execution_count": null,
   "id": "c9b79f2c-f4b4-428e-89d4-3f117de37034",
   "metadata": {},
   "outputs": [],
   "source": [
    "print(np.mean(df[\"Fehler_N\"].to_list()))\n",
    "if \"Fehler_ML\" in df:\n",
    "    print(np.mean(df[\"Fehler_ML\"].to_list()))\n",
    "if \"Fehler\" in df:\n",
    "    print(np.mean(df[\"Fehler\"].to_list()))"
   ]
  },
  {
   "cell_type": "code",
   "execution_count": null,
   "id": "beb53918-d970-47de-b6b4-752ddc5cdb6c",
   "metadata": {
    "scrolled": true
   },
   "outputs": [],
   "source": [
    "eingangssignale = np.atleast_2d(np.asarray([0, 40], dtype=np.float32)).T\n",
    "vorhersagen = [v.data for v in mache_vorhersage(eingangssignale, n)]\n",
    "plt.scatter(df[\"Temperatur\"], df[\"Eis\"])\n",
    "plt.plot([0, 40], [vorhersagen[0], vorhersagen[1]], color='purple') \n",
    "plt.xlabel(\"Temperatur\")\n",
    "plt.ylabel(\"Eis\")\n",
    "plt.show()"
   ]
  },
  {
   "cell_type": "markdown",
   "id": "a3b27959-10b3-4315-942b-970e2ee0be86",
   "metadata": {},
   "source": [
    "## Ein Netz von Neuronen"
   ]
  },
  {
   "cell_type": "code",
   "execution_count": null,
   "id": "fb4bf380-76c9-4640-964e-d87d46fe882f",
   "metadata": {},
   "outputs": [],
   "source": [
    "nn = MLP(1, [4,1], 'relu') # 2-layer neural network\n",
    "print(nn)\n",
    "print(\"number of parameters\", len(nn.parameters()))"
   ]
  },
  {
   "cell_type": "code",
   "execution_count": null,
   "id": "015fb40b-296c-4120-8b9c-4d84cc50a61b",
   "metadata": {},
   "outputs": [],
   "source": [
    "eis = nn([temp])\n",
    "print(f\"eis = {eis.data}\")"
   ]
  },
  {
   "cell_type": "code",
   "execution_count": null,
   "id": "112a204f-cb52-4480-b8bb-28cb8361e085",
   "metadata": {},
   "outputs": [],
   "source": [
    "draw_dot(eis)"
   ]
  },
  {
   "cell_type": "code",
   "execution_count": null,
   "id": "50eb0dcd-2292-4e1e-b332-3f2836603a50",
   "metadata": {},
   "outputs": [],
   "source": [
    "lernrate = 0.0001 #0.002\n",
    "schritte = 10000 #2000\n",
    "suche(nn, df[\"Temperatur\"].to_list(), df[\"Eis\"].to_list(), lernrate, schritte)"
   ]
  },
  {
   "cell_type": "markdown",
   "id": "29d5f728-3b81-446a-803a-091a8d539b13",
   "metadata": {},
   "source": [
    "#### Aufgabe 4\n",
    "\n",
    "##### 1 Punkte\n",
    "\n",
    "Führen Sie das experiment oben mehrfach durch. Dazu müssen sie immer wieder in der Zelle unterhalb der Überschrift \"Ein Netz von Neuronen\" beginnen.\n",
    "\n",
    "- F: Was ist ihr bestes Ergebniss (loss)?\n",
    "- A:\n",
    "- F: Warum unterscheiden sich die Ergebnisse bei jedem Versuch?\n",
    "- A:\n",
    "- F: Warum brauchen wir viel mehr Schritte als bei unserem ersten einfachen Modell?\n",
    "- A:"
   ]
  },
  {
   "cell_type": "markdown",
   "id": "ab0a45f6-e493-4851-90df-b1d7194a4e0a",
   "metadata": {},
   "source": [
    "## Abschluss"
   ]
  },
  {
   "cell_type": "code",
   "execution_count": null,
   "id": "d5ae34f5-c8cd-44c1-aadc-a7cd36768d8a",
   "metadata": {},
   "outputs": [],
   "source": [
    "eingangssignale = np.atleast_2d(df[\"Temperatur\"].to_numpy(dtype=np.float32)).T\n",
    "df[\"Eis_Vorhersage_NN\"] = [v.data for v in mache_vorhersage(eingangssignale, nn)]\n",
    "df[\"Fehler_NN\"] = berechne_fehler(df[\"Eis\"].to_list(), df[\"Eis_Vorhersage_NN\"].to_list())\n",
    "df.head(10)"
   ]
  },
  {
   "cell_type": "code",
   "execution_count": null,
   "id": "333c966f-66a4-4902-82f7-78e9e97036ad",
   "metadata": {},
   "outputs": [],
   "source": [
    "xRange = np.atleast_2d(np.arange(0, 40, 1).tolist()).T\n",
    "inputs = [list(map(Value, xrow)) for xrow in xRange]\n",
    "scores = [y.data for y in list(map(nn, inputs))]\n",
    "plt.scatter(df[\"Temperatur\"], df[\"Eis\"])\n",
    "plt.plot(xRange, scores, color='purple') \n",
    "plt.xlabel(\"Temperatur\")\n",
    "plt.ylabel(\"Eis\")\n",
    "plt.show()\n",
    "#print(scores)"
   ]
  },
  {
   "cell_type": "markdown",
   "id": "94bfc486-686c-4c8c-9974-32926e318c36",
   "metadata": {},
   "source": [
    "#### Aufgabe 5\n",
    "\n",
    "##### 1 Punkt\n",
    "\n",
    "Schauen Sie auf die Grafik oben.\n",
    "\n",
    "- F: Wie unterscheidet sich unser neues Modell aus Neuronen graphisch von unserem ersten Machine Learning Modell? \n",
    "- A:\n"
   ]
  },
  {
   "cell_type": "code",
   "execution_count": null,
   "id": "52a2fca1-42cc-4797-8394-be829031ec6a",
   "metadata": {},
   "outputs": [],
   "source": []
  },
  {
   "cell_type": "code",
   "execution_count": null,
   "id": "03440aab-fe7b-4299-8f16-2fdadc4b42b8",
   "metadata": {},
   "outputs": [],
   "source": []
  },
  {
   "cell_type": "code",
   "execution_count": null,
   "id": "48106c2c-e8a5-40c3-9417-bda270b95424",
   "metadata": {},
   "outputs": [],
   "source": []
  }
 ],
 "metadata": {
  "kernelspec": {
   "display_name": "Python 3 (ipykernel)",
   "language": "python",
   "name": "python3"
  },
  "language_info": {
   "codemirror_mode": {
    "name": "ipython",
    "version": 3
   },
   "file_extension": ".py",
   "mimetype": "text/x-python",
   "name": "python",
   "nbconvert_exporter": "python",
   "pygments_lexer": "ipython3",
   "version": "3.10.10"
  }
 },
 "nbformat": 4,
 "nbformat_minor": 5
}
