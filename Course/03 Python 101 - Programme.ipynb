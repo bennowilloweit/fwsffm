{
 "cells": [
  {
   "cell_type": "markdown",
   "id": "9a159d7d-5a85-4ea1-9f65-4d2a1fe31931",
   "metadata": {},
   "source": [
    "# Abschluss\n",
    "\n",
    "..."
   ]
  },
  {
   "cell_type": "markdown",
   "id": "602cc5da-ffd4-4136-a5cc-9170abdaea34",
   "metadata": {},
   "source": [
    "## Klassen\n",
    "\n",
    "Klassen dienen im wesentlichen dazu, Daten und Funktionen die zusammengehören in einer Struktur zusammenzufassen und zur Nutzung in einer Anwendung bereitzeitzustellen."
   ]
  },
  {
   "cell_type": "code",
   "execution_count": 78,
   "id": "e73beaba-fd18-413b-93b9-ad8e17f56cde",
   "metadata": {},
   "outputs": [],
   "source": [
    "class Einkaufsliste:\n",
    "    \n",
    "    def __init__(self, name=\"Unbenannte Liste\"):\n",
    "        self._name = name\n",
    "        self._liste = []\n",
    "        "
   ]
  },
  {
   "cell_type": "code",
   "execution_count": 79,
   "id": "59e769fd-d24c-47f1-bfd6-62b3684e0b41",
   "metadata": {},
   "outputs": [
    {
     "name": "stdout",
     "output_type": "stream",
     "text": [
      "<__main__.Einkaufsliste object at 0x000001EC378170D0>\n"
     ]
    }
   ],
   "source": [
    "liste = Einkaufsliste()\n",
    "print(liste)"
   ]
  },
  {
   "cell_type": "code",
   "execution_count": 80,
   "id": "f6c5ae3c-e465-4b87-83eb-7ddbc5684eba",
   "metadata": {},
   "outputs": [],
   "source": [
    "class Einkaufsliste:\n",
    "    \n",
    "    def __init__(self, name=\"Unbenannte Liste\"):\n",
    "        self._name = name\n",
    "        self._liste = []\n",
    "        \n",
    "    def __repr__(self):\n",
    "        return f\"Liste: {self._name}\"\n"
   ]
  },
  {
   "cell_type": "code",
   "execution_count": 81,
   "id": "72f4d1fa-0b49-4cc0-8c70-9c0d9741e818",
   "metadata": {},
   "outputs": [
    {
     "name": "stdout",
     "output_type": "stream",
     "text": [
      "Liste: Unbenannte Liste\n"
     ]
    }
   ],
   "source": [
    "liste = Einkaufsliste()\n",
    "print(liste)"
   ]
  },
  {
   "cell_type": "code",
   "execution_count": 41,
   "id": "54281683-472d-431f-834d-a418bfa78ea5",
   "metadata": {},
   "outputs": [],
   "source": [
    "class Einkaufsliste:\n",
    "    \n",
    "    def __init__(self, name=\"Unbenannte Liste\"):\n",
    "        self._name = name\n",
    "        self._liste = []\n",
    "        \n",
    "    def __repr__(self):\n",
    "        out = f\"Liste: {self._name}\\n=====================\\n\"\n",
    "        for index, eintrag in enumerate(self._liste):\n",
    "            out += f\"{index:02d} - {eintrag['laden']} - {eintrag['produkt']}: {eintrag['menge']:02d}\\n\"\n",
    "        return out\n",
    "        \n",
    "    def einträge(self):\n",
    "        return len(self._liste)"
   ]
  },
  {
   "cell_type": "code",
   "execution_count": 42,
   "id": "7ebcb2ed-acd1-450a-87e0-e7777357b22a",
   "metadata": {},
   "outputs": [
    {
     "data": {
      "text/plain": [
       "0"
      ]
     },
     "execution_count": 42,
     "metadata": {},
     "output_type": "execute_result"
    }
   ],
   "source": [
    "liste = Einkaufsliste()\n",
    "liste.einträge()"
   ]
  },
  {
   "cell_type": "markdown",
   "id": "990e36ba-0b73-44fe-b9da-d0ab21939824",
   "metadata": {},
   "source": [
    "#### Aufgabe 1\n",
    "\n",
    "Erweitern sie die Klasse `Einkaufsliste` um eine Funktionen für das Hinzufügen eines Eintrags. Hinweise: \n",
    "- Die Funktion muss in der Klasse stehen und soll `hinzu` heißen.\n",
    "- Die Funktion muss den Parameter `self` an erster Stelle haben. Zudem soll sie die Parameter `laden`, `produkt` und `menge` haben. Der Standardwert für Menge soll `1` sein.\n",
    "- Hinweis: Erzeugen sie innerhalb der Funktion ein Dictionary:\n",
    "\n",
    "    `{\"laden\": laden, \"produkt\": produkt, \"menge\": menge}` \n",
    "\n",
    "    und fügen sie dieses Dictionary der internen Liste hinzu. "
   ]
  },
  {
   "cell_type": "code",
   "execution_count": 63,
   "id": "5af6b5ff-d91f-44f2-9384-6b607aee757b",
   "metadata": {},
   "outputs": [],
   "source": [
    "class Einkaufsliste:\n",
    "    \n",
    "    def __init__(self, name=\"Unbenannte Liste\"):\n",
    "        self._name = name\n",
    "        self._liste = []\n",
    "\n",
    "    def __repr__(self):\n",
    "        out = f\"Liste: {self._name}\\n=====================\\n\"\n",
    "        for index, eintrag in enumerate(self._liste):\n",
    "            out += f\"{index:02d} - {eintrag['laden']} - {eintrag['produkt']}: {eintrag['menge']:02d}\\n\"\n",
    "        return out\n",
    "        \n",
    "    def einträge(self):\n",
    "        return len(self._liste)\n",
    "\n",
    "    ### hier steht ihr Code\n",
    "    def hinzu(self, laden, produkt, menge=1):\n",
    "        eintrag = {\"laden\": laden, \"produkt\": produkt, \"menge\": menge}\n",
    "        self._liste.append(eintrag)"
   ]
  },
  {
   "cell_type": "code",
   "execution_count": 64,
   "id": "0058e45f-efbc-417d-a14a-7f516aafcfe1",
   "metadata": {},
   "outputs": [
    {
     "name": "stdout",
     "output_type": "stream",
     "text": [
      "Liste: Meine Neue Liste\n",
      "=====================\n",
      "00 - Rewe - Bananen: 05\n",
      "01 - Wochenmarkt - Kokosnuss: 01\n",
      "\n"
     ]
    }
   ],
   "source": [
    "liste = Einkaufsliste(\"Meine Neue Liste\")\n",
    "liste.hinzu(\"Rewe\", \"Bananen\", 5)\n",
    "liste.hinzu(\"Wochenmarkt\", \"Kokosnuss\")\n",
    "assert liste.einträge() == 2\n",
    "print(liste)"
   ]
  },
  {
   "cell_type": "markdown",
   "id": "51ab55dc-f6b4-4964-962d-781431eea1be",
   "metadata": {},
   "source": [
    "#### Aufgabe 2\n",
    "\n",
    "Erweitern sie die Klasse `Einkaufsliste` um eine Funktionen für das Entfernen eines Eintrags. Hinweise: \n",
    "- Die Funktion muss in der Klasse stehen und soll `streichen` heißen.\n",
    "- Die Funktion muss den Parameter `self` an erster Stelle haben. Zudem soll sie einen Parameter `index` für den index des Listenelements haben, das entfernt werden soll. Der Standardwert für `index` soll `0` sein.\n",
    "- Hinweis: Die Funktion soll keinen Fehler erzeugen, falls der Index nicht existiert! In einem solchen Fall soll einfach nichts passieren. "
   ]
  },
  {
   "cell_type": "code",
   "execution_count": 65,
   "id": "2633d238-4267-4255-be03-9d7c1feda779",
   "metadata": {},
   "outputs": [],
   "source": [
    "class Einkaufsliste:\n",
    "    \n",
    "    def __init__(self, name=\"Unbenannte Liste\"):\n",
    "        self._name = name\n",
    "        self._liste = []\n",
    "\n",
    "    def __repr__(self):\n",
    "        out = f\"Liste: {self._name}\\n=====================\\n\"\n",
    "        for index, eintrag in enumerate(self._liste):\n",
    "            out += f\"{index:02d} - {eintrag['laden']} - {eintrag['produkt']}: {eintrag['menge']:02d}\\n\"\n",
    "        return out\n",
    "        \n",
    "    def einträge(self):\n",
    "        return len(self._liste)\n",
    "\n",
    "    ### hier steht ihr Code\n",
    "    def hinzu(self, laden, produkt, menge=1):\n",
    "        eintrag = {\"laden\": laden, \"produkt\": produkt, \"menge\": menge}\n",
    "        self._liste.append(eintrag)\n",
    "    \n",
    "    ### hier steht ihr Code\n",
    "    def streichen(self, index=0):\n",
    "        if index >= 0 and index < len(self._liste):\n",
    "            self._liste.pop(index)"
   ]
  },
  {
   "cell_type": "code",
   "execution_count": 66,
   "id": "668dd35f-1a4a-4fef-abfb-b006eb5adea7",
   "metadata": {},
   "outputs": [
    {
     "name": "stdout",
     "output_type": "stream",
     "text": [
      "Liste: Meine Neue Liste\n",
      "=====================\n",
      "00 - Rewe - Bananen: 05\n",
      "\n"
     ]
    }
   ],
   "source": [
    "liste = Einkaufsliste(\"Meine Neue Liste\")\n",
    "liste.hinzu(\"Rewe\", \"Bananen\", 5)\n",
    "liste.hinzu(\"Wochenmarkt\", \"Kokosnuss\")\n",
    "assert liste.einträge() == 2\n",
    "liste.streichen(7)\n",
    "liste.streichen(1)\n",
    "assert liste.einträge() == 1\n",
    "print(liste)"
   ]
  },
  {
   "cell_type": "code",
   "execution_count": null,
   "id": "b8f561e5-8f36-4bef-8c2e-6c5d7bf4d6b6",
   "metadata": {},
   "outputs": [],
   "source": []
  },
  {
   "cell_type": "markdown",
   "id": "922d3a4e-d84c-47f8-89fe-d3a87e72163f",
   "metadata": {},
   "source": [
    "## Dateioperationen\n",
    "\n",
    "Um Daten zwischen Programmläufen (und vor allem vor dem Herunterfahren des Rechners!) abzuspeichern, können diese als Datei gespeichert werden. Dateien haben einen Namen und einen Speicherort. Der Speicherort ist standardmäßig der Ort an dem das Programm ausgeführt wird. "
   ]
  },
  {
   "cell_type": "code",
   "execution_count": 67,
   "id": "3155be31-f9b8-415d-bed4-3026cf62ac03",
   "metadata": {},
   "outputs": [],
   "source": [
    "speicherort = ''\n",
    "dateiname = 'meine_erste_datei.txt'\n",
    "with open(speicherort + dateiname, 'w') as datei:\n",
    "    datei.write(\"das ist der inhalt\")"
   ]
  },
  {
   "cell_type": "code",
   "execution_count": 68,
   "id": "ee3eb2de-48f8-494c-adef-1b856f4015ff",
   "metadata": {},
   "outputs": [
    {
     "name": "stdout",
     "output_type": "stream",
     "text": [
      "das ist der inhalt\n"
     ]
    }
   ],
   "source": [
    "with open(speicherort + dateiname, 'r') as datei:\n",
    "    inhalt = datei.read()\n",
    "    print(inhalt)"
   ]
  },
  {
   "cell_type": "code",
   "execution_count": 70,
   "id": "924abad9-d5f8-41a9-b133-af8e69e09239",
   "metadata": {},
   "outputs": [
    {
     "ename": "TypeError",
     "evalue": "a bytes-like object is required, not 'Einkaufsliste'",
     "output_type": "error",
     "traceback": [
      "\u001b[1;31m---------------------------------------------------------------------------\u001b[0m",
      "\u001b[1;31mTypeError\u001b[0m                                 Traceback (most recent call last)",
      "\u001b[1;32mC:\\Users\\A30375~1\\AppData\\Local\\Temp/ipykernel_27048/2988949033.py\u001b[0m in \u001b[0;36m<module>\u001b[1;34m\u001b[0m\n\u001b[0;32m      2\u001b[0m \u001b[0mdateiname\u001b[0m \u001b[1;33m=\u001b[0m \u001b[1;34m'meine_erste_datei.bin'\u001b[0m\u001b[1;33m\u001b[0m\u001b[1;33m\u001b[0m\u001b[0m\n\u001b[0;32m      3\u001b[0m \u001b[1;32mwith\u001b[0m \u001b[0mopen\u001b[0m\u001b[1;33m(\u001b[0m\u001b[0mspeicherort\u001b[0m \u001b[1;33m+\u001b[0m \u001b[0mdateiname\u001b[0m\u001b[1;33m,\u001b[0m \u001b[1;34m'wb'\u001b[0m\u001b[1;33m)\u001b[0m \u001b[1;32mas\u001b[0m \u001b[0mdatei\u001b[0m\u001b[1;33m:\u001b[0m\u001b[1;33m\u001b[0m\u001b[1;33m\u001b[0m\u001b[0m\n\u001b[1;32m----> 4\u001b[1;33m     \u001b[0mdatei\u001b[0m\u001b[1;33m.\u001b[0m\u001b[0mwrite\u001b[0m\u001b[1;33m(\u001b[0m\u001b[0mliste\u001b[0m\u001b[1;33m)\u001b[0m\u001b[1;33m\u001b[0m\u001b[1;33m\u001b[0m\u001b[0m\n\u001b[0m",
      "\u001b[1;31mTypeError\u001b[0m: a bytes-like object is required, not 'Einkaufsliste'"
     ]
    }
   ],
   "source": [
    "dateiname = 'meine_erste_datei.bin'\n",
    "with open(speicherort + dateiname, 'wb') as datei:\n",
    "    datei.write(liste)"
   ]
  },
  {
   "cell_type": "code",
   "execution_count": 71,
   "id": "cd0b396e-fdf9-4c9a-9806-4fcb250a7825",
   "metadata": {},
   "outputs": [],
   "source": [
    "import pickle\n",
    "dateiname = 'meine_erste_datei.bin'\n",
    "with open(speicherort + dateiname, 'wb') as datei:\n",
    "    datei.write(pickle.dumps(liste))"
   ]
  },
  {
   "cell_type": "code",
   "execution_count": 75,
   "id": "19582261-a7bf-4714-8c2d-7e402cf06f16",
   "metadata": {},
   "outputs": [],
   "source": [
    "with open(speicherort + dateiname, 'rb') as datei:\n",
    "    liste2 = pickle.loads(datei.read())"
   ]
  },
  {
   "cell_type": "code",
   "execution_count": 76,
   "id": "ce4ed17c-06ec-424d-9aa1-c21ba088ef26",
   "metadata": {},
   "outputs": [
    {
     "name": "stdout",
     "output_type": "stream",
     "text": [
      "Liste: Meine Neue Liste\n",
      "=====================\n",
      "00 - Rewe - Bananen: 05\n",
      "\n"
     ]
    }
   ],
   "source": [
    "print(liste2)"
   ]
  },
  {
   "cell_type": "code",
   "execution_count": null,
   "id": "3803ad19-c887-4824-b422-8118ef994fad",
   "metadata": {},
   "outputs": [],
   "source": []
  },
  {
   "cell_type": "code",
   "execution_count": null,
   "id": "35080574-00ba-4f61-9571-0a8a38c7cdf8",
   "metadata": {},
   "outputs": [],
   "source": [
    "### continue here\n",
    "•\tKlassen, Dateioperationen\n",
    "•\t—- klasse aufbauen \n",
    "•\t> Abschluss: die Einkaufsliste \n"
   ]
  },
  {
   "cell_type": "code",
   "execution_count": 59,
   "id": "4fc73606-8900-4337-8414-17eaa311d228",
   "metadata": {},
   "outputs": [],
   "source": [
    "### hier steht ihr Code"
   ]
  }
 ],
 "metadata": {
  "kernelspec": {
   "display_name": "Python 3 (ipykernel)",
   "language": "python",
   "name": "python3"
  },
  "language_info": {
   "codemirror_mode": {
    "name": "ipython",
    "version": 3
   },
   "file_extension": ".py",
   "mimetype": "text/x-python",
   "name": "python",
   "nbconvert_exporter": "python",
   "pygments_lexer": "ipython3",
   "version": "3.9.6"
  }
 },
 "nbformat": 4,
 "nbformat_minor": 5
}
