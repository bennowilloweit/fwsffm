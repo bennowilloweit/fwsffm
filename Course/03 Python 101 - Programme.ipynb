{
 "cells": [
  {
   "cell_type": "markdown",
   "id": "9a159d7d-5a85-4ea1-9f65-4d2a1fe31931",
   "metadata": {
    "deletable": false,
    "editable": false,
    "slideshow": {
     "slide_type": ""
    },
    "tags": []
   },
   "source": [
    "# Programme\n",
    "\n",
    "In der letzten Einheit des Python-Kurses erstellen wir unser erstes Programm. Programme nehmen Eingaben von Anwender*innen entgegen, verarbeiten diese in irgendeiner Weise und geben ein Ergebnis zurück. Zudem können Programme Daten laden und speichern, um Nutzereingaben und/oder Ergebnisse auch nach einem Neustart des Geräts wieder zur Verfügung zu stellen.\n",
    "\n",
    "Programme begegnen uns im Alltag ständig, vom Kaffevollautomaten über ein Office Programm bis zur Social Media App im Browser oder auf dem Handy.\n",
    "\n",
    "- Wir beginnen mit der Verarbeitung, die auf den wesentlchen Elementen von Datenstrukturen und Algorithmen aufbaut\n",
    "- Anschließend widmen wir uns der Ein- und Ausgabe sowie dem Laden und Specheichern von Daten\n",
    "- Schließlich erstellen wir unser erstes Python Programm aus all diesen Elementen."
   ]
  },
  {
   "cell_type": "markdown",
   "id": "602cc5da-ffd4-4136-a5cc-9170abdaea34",
   "metadata": {
    "deletable": false,
    "editable": false,
    "slideshow": {
     "slide_type": ""
    },
    "tags": []
   },
   "source": [
    "## Verarbeitung - Klassen\n",
    "\n",
    "Eine **Klasse** beschreibt, welche Daten und Funktionen logisch zusammengehören - welche das sind, ist unsere Entscheidung. Von einer Klasse lassen sich beliebiig viele **Objekte** erzeugen, die jeweils eine konkrete Ausprägung (d.h. mit individuell verschiedenen Daten) darstellen."
   ]
  },
  {
   "cell_type": "markdown",
   "id": "1976a44a-5287-4337-ad3d-a5da83ff3c58",
   "metadata": {
    "deletable": false,
    "editable": false,
    "slideshow": {
     "slide_type": ""
    },
    "tags": []
   },
   "source": [
    "Wir erzeugen eine Klasse für die Einkaufsliste. Sie beginnt mit dem Schlüsselwort `class`, gefolgt vom Namen der Klasse und einem `:`. Darunter eingerückt stehen alle Daten und Funktionen, die zur Klasse Einkaufsliste gehören sollen. \n",
    "- Unsere Einkaufsliste hat zwei Datenfelder `name` und `liste`, auch *Attribute* genannt. Hier sind der konkrete Name und die konkreten Listeneinträge eines Objekts der Klasse gespeichert.\n",
    "- Sie besitzt auch eine spezielle Funktion `__init__()`, die implizit aufgerufen wird, wenn ein neues Objekt der Klasse erzeugt werden soll. Die Funktion initialisert die beiden Attribute, indem sie den Namen übernimmt und eine leere Liste erzeugt und besitzt zwei Parameter:\n",
    "    - Eine Referenz auf das Objekt (`self`)\n",
    "    - Eine Parameter `name`, der von den Anwender*innen später frei vergeben werden soll."
   ]
  },
  {
   "cell_type": "code",
   "execution_count": null,
   "id": "e73beaba-fd18-413b-93b9-ad8e17f56cde",
   "metadata": {
    "deletable": false,
    "editable": false,
    "slideshow": {
     "slide_type": ""
    },
    "tags": []
   },
   "outputs": [],
   "source": [
    "class Einkaufsliste:\n",
    "\n",
    "    name = None\n",
    "    liste = None\n",
    "    \n",
    "    def __init__(self, name=\"Unbenannte Liste\"):\n",
    "        self.name = name\n",
    "        self.liste = []\n",
    "        "
   ]
  },
  {
   "cell_type": "markdown",
   "id": "dae1a91c-b4ab-4317-b586-a6a2a95fe3b5",
   "metadata": {
    "deletable": false,
    "editable": false,
    "slideshow": {
     "slide_type": ""
    },
    "tags": []
   },
   "source": [
    "Ein neues Objekt einer Klasse wird erzeugt, indem der Klassenname wie eine Funktion aufgerufen wird. Hier erzeugen wir ein neues Objekt der Klasse Einkaufsliste und geben es aus:"
   ]
  },
  {
   "cell_type": "code",
   "execution_count": null,
   "id": "59e769fd-d24c-47f1-bfd6-62b3684e0b41",
   "metadata": {
    "deletable": false,
    "editable": false,
    "slideshow": {
     "slide_type": ""
    },
    "tags": []
   },
   "outputs": [],
   "source": [
    "liste = Einkaufsliste()\n",
    "print(liste)"
   ]
  },
  {
   "cell_type": "markdown",
   "id": "c74545d9-3877-4499-8caf-7d1bf7f5fc3c",
   "metadata": {
    "deletable": false,
    "editable": false,
    "slideshow": {
     "slide_type": ""
    },
    "tags": []
   },
   "source": [
    "Wir sehen, dass wir als Ausgabe nur die Speicherreferenz auf unser Objekt bekommen, wenn wir versuchen dieses mit `print()` auszugeben. Wir lösen das, indem wir eine weitere spezielle Funktion mit dem namen `__repr__()`:\n",
    "- Auch dese Funktion bekommt den Parameter self als Referenz auf das Objekt\n",
    "- Die Funktion erzeugt eine Zeichenkette und gibt sie zurück"
   ]
  },
  {
   "cell_type": "code",
   "execution_count": null,
   "id": "f6c5ae3c-e465-4b87-83eb-7ddbc5684eba",
   "metadata": {
    "deletable": false,
    "editable": false,
    "slideshow": {
     "slide_type": ""
    },
    "tags": []
   },
   "outputs": [],
   "source": [
    "class Einkaufsliste:\n",
    "    \n",
    "    def __init__(self, name=\"Unbenannte Liste\"):\n",
    "        self.name = name\n",
    "        self.liste = []\n",
    "        \n",
    "    def __repr__(self):\n",
    "        out = f\"Liste: {self.name}\\n=====================\\n\"\n",
    "        for index, eintrag in enumerate(self.liste):\n",
    "            out += f\"{index:02d} - {eintrag['laden']} - {eintrag['produkt']}: {eintrag['menge']:02d}\\n\"\n",
    "        return out\n"
   ]
  },
  {
   "cell_type": "markdown",
   "id": "b1e730cf-4497-4216-b22f-58fd7b377fe1",
   "metadata": {
    "deletable": false,
    "editable": false,
    "slideshow": {
     "slide_type": ""
    },
    "tags": []
   },
   "source": [
    "So können wir unser Objekt schonmal lesbar mit `print()` ausgeben: "
   ]
  },
  {
   "cell_type": "code",
   "execution_count": null,
   "id": "72f4d1fa-0b49-4cc0-8c70-9c0d9741e818",
   "metadata": {
    "deletable": false,
    "editable": false,
    "slideshow": {
     "slide_type": ""
    },
    "tags": []
   },
   "outputs": [],
   "source": [
    "liste = Einkaufsliste()\n",
    "print(liste)"
   ]
  },
  {
   "cell_type": "markdown",
   "id": "5b5254e9-1360-4fb1-8e59-8156cebbd1c6",
   "metadata": {
    "deletable": false,
    "editable": false,
    "slideshow": {
     "slide_type": ""
    },
    "tags": []
   },
   "source": [
    "Nachdem wir die beiden speziellen Funktionen implementiert haben, fügen wir weitere sinnvolle Operationen hinzu. Beispielsweise benötigen wir eine Funktion um festzustellen, wie viele Einträge in einem Listenopbjekt sind:"
   ]
  },
  {
   "cell_type": "code",
   "execution_count": null,
   "id": "54281683-472d-431f-834d-a418bfa78ea5",
   "metadata": {
    "deletable": false,
    "editable": false,
    "slideshow": {
     "slide_type": ""
    },
    "tags": []
   },
   "outputs": [],
   "source": [
    "class Einkaufsliste:\n",
    "    \n",
    "    def __init__(self, name=\"Unbenannte Liste\"):\n",
    "        self.name = name\n",
    "        self.liste = []\n",
    "        \n",
    "    def __repr__(self):\n",
    "        out = f\"Liste: {self.name}\\n=====================\\n\"\n",
    "        for index, eintrag in enumerate(self.liste):\n",
    "            out += f\"{index:02d} - {eintrag['laden']} - {eintrag['produkt']}: {eintrag['menge']:02d}\\n\"\n",
    "        return out\n",
    "        \n",
    "    def einträge(self):\n",
    "        return len(self.liste)"
   ]
  },
  {
   "cell_type": "markdown",
   "id": "2dc030a3-a870-45c9-acb8-ecb3d96ee6b8",
   "metadata": {
    "deletable": false,
    "editable": false,
    "slideshow": {
     "slide_type": ""
    },
    "tags": []
   },
   "source": [
    "Diese Methode kann dann explizit auf einem Objekt aufgerufen werden, und gibt das Ergebnis für dieses konkrete Objekt zurück. Die Notation dafür ist ein Punkt hinter der Veriable die auf das Objekt zeigt gefolgt vom namen der Funktion mit etwaigen Parametern:"
   ]
  },
  {
   "cell_type": "code",
   "execution_count": null,
   "id": "7ebcb2ed-acd1-450a-87e0-e7777357b22a",
   "metadata": {
    "editable": false,
    "slideshow": {
     "slide_type": ""
    },
    "tags": []
   },
   "outputs": [],
   "source": [
    "liste = Einkaufsliste()\n",
    "liste.einträge()"
   ]
  },
  {
   "cell_type": "markdown",
   "id": "990e36ba-0b73-44fe-b9da-d0ab21939824",
   "metadata": {
    "deletable": false,
    "editable": false,
    "slideshow": {
     "slide_type": ""
    },
    "tags": []
   },
   "source": [
    "#### Aufgabe 1\n",
    "\n",
    "##### 1 Punkt\n",
    "\n",
    "Erweitern sie die Klasse `Einkaufsliste` um eine Funktionen für das Hinzufügen eines Eintrags. Hinweise: \n",
    "- Die Funktion muss in der Klasse stehen und soll `hinzu` heißen.\n",
    "- Die Funktion muss den Parameter `self` an erster Stelle haben. Zudem soll sie die Parameter `laden`, `produkt` und `menge` haben. Der Standardwert für Menge soll `1` sein.\n",
    "- Hinweis: Erzeugen sie innerhalb der Funktion ein Dictionary:\n",
    "\n",
    "    `{\"laden\": laden, \"produkt\": produkt, \"menge\": menge}` \n",
    "\n",
    "    und fügen sie dieses Dictionary der internen Liste hinzu. "
   ]
  },
  {
   "cell_type": "code",
   "execution_count": null,
   "id": "5af6b5ff-d91f-44f2-9384-6b607aee757b",
   "metadata": {
    "deletable": false,
    "editable": true,
    "slideshow": {
     "slide_type": ""
    },
    "tags": []
   },
   "outputs": [],
   "source": [
    "class Einkaufsliste:\n",
    "    \n",
    "    def __init__(self, name=\"Unbenannte Liste\"):\n",
    "        self.name = name\n",
    "        self.liste = []\n",
    "\n",
    "    def __repr__(self):\n",
    "        out = f\"Liste: {self.name}\\n=====================\\n\"\n",
    "        for index, eintrag in enumerate(self.liste):\n",
    "            out += f\"{(index + 1):02d} - {eintrag['laden']} - {eintrag['produkt']}: {eintrag['menge']:02d}\\n\"\n",
    "        return out\n",
    "        \n",
    "    def einträge(self):\n",
    "        return len(self.liste)\n",
    "\n",
    "    def hinzu(self, laden, produkt, menge=0):\n",
    "        eintrag = {\"laden\": laden, \"produkt\": produkt, \"menge\": menge}\n",
    "        self.liste.append(eintrag)\n",
    "    "
   ]
  },
  {
   "cell_type": "code",
   "execution_count": null,
   "id": "0058e45f-efbc-417d-a14a-7f516aafcfe1",
   "metadata": {
    "deletable": false,
    "editable": false,
    "slideshow": {
     "slide_type": ""
    },
    "tags": []
   },
   "outputs": [],
   "source": [
    "liste = Einkaufsliste(\"Meine Neue Liste\")\n",
    "liste.hinzu(\"Rewe\", \"Bananen\", 5)\n",
    "liste.hinzu(\"Wochenmarkt\", \"Kokosnuss\")\n",
    "assert liste.einträge() == 2\n",
    "print(liste)"
   ]
  },
  {
   "cell_type": "markdown",
   "id": "51ab55dc-f6b4-4964-962d-781431eea1be",
   "metadata": {
    "deletable": false,
    "editable": false,
    "slideshow": {
     "slide_type": ""
    },
    "tags": []
   },
   "source": [
    "#### Aufgabe 2\n",
    "\n",
    "##### 1 Punkt\n",
    "\n",
    "Erweitern sie die Klasse `Einkaufsliste` um eine Funktionen für das Entfernen eines Eintrags. Hinweise: \n",
    "- Die Funktion muss in der Klasse stehen und soll `streichen` heißen.\n",
    "- Die Funktion muss den Parameter `self` an erster Stelle haben. Zudem soll sie einen Parameter `index` für den index des Listenelements haben, das entfernt werden soll. Der Standardwert für `index` soll `0` sein.\n",
    "- Hinweis: Die Funktion soll keinen Fehler erzeugen, falls der Index nicht existiert! In einem solchen Fall soll einfach nichts passieren. "
   ]
  },
  {
   "cell_type": "code",
   "execution_count": null,
   "id": "2633d238-4267-4255-be03-9d7c1feda779",
   "metadata": {
    "deletable": false,
    "editable": true,
    "slideshow": {
     "slide_type": ""
    },
    "tags": []
   },
   "outputs": [],
   "source": [
    "class Einkaufsliste:\n",
    "    \n",
    "    def __init__(self, name=\"Unbenannte Liste\"):\n",
    "        self._name = name\n",
    "        self._liste = []\n",
    "\n",
    "    def __repr__(self):\n",
    "        out = f\"Liste: {self._name}\\n=====================\\n\"\n",
    "        for index, eintrag in enumerate(self._liste):\n",
    "            out += f\"{(index + 1):02d} - {eintrag['laden']} - {eintrag['produkt']}: {eintrag['menge']:02d}\\n\"\n",
    "        return out\n",
    "        \n",
    "    def einträge(self):\n",
    "        return len(self._liste)\n",
    "\n",
    "    def hinzu(self, laden, produkt, menge=1):\n",
    "        eintrag = {\"laden\": laden, \"produkt\": produkt, \"menge\": menge}\n",
    "        self._liste.append(eintrag)\n",
    "\n",
    "    def streichen(self, index=0):\n",
    "        if index >= 0 and index < len(self._liste):\n",
    "            self._liste.pop(index)"
   ]
  },
  {
   "cell_type": "code",
   "execution_count": null,
   "id": "668dd35f-1a4a-4fef-abfb-b006eb5adea7",
   "metadata": {
    "deletable": false,
    "editable": false,
    "slideshow": {
     "slide_type": ""
    },
    "tags": []
   },
   "outputs": [],
   "source": [
    "liste = Einkaufsliste(\"Meine Neue Liste\")\n",
    "liste.hinzu(\"Rewe\", \"Bananen\", 5)\n",
    "liste.hinzu(\"Wochenmarkt\", \"Kokosnuss\")\n",
    "assert liste.einträge() == 2\n",
    "liste.streichen(7)\n",
    "liste.streichen(1)\n",
    "assert liste.einträge() == 1\n",
    "print(liste)"
   ]
  },
  {
   "cell_type": "markdown",
   "id": "d561dc0d-4916-4cb8-85b2-2880c098f565",
   "metadata": {
    "deletable": false,
    "editable": false,
    "slideshow": {
     "slide_type": ""
    },
    "tags": []
   },
   "source": [
    "## Benutzereingaben\n",
    "\n",
    "In den meisten Anwendungen erfolgt die Steuerunng durch die Anwender*innen über eine graphische Oberfläche, die eingaben über Maus, Tastatur oder einen berührungsempfindlichen Bildschirm enntegen nimmt. Die einfachste, und vor Erfindung der Maus einzige Möglchkeit ist es aber, Programme ausschließlich über Tastatureingaben zu steuern.  \n",
    "\n",
    "In Python lässt sich das mit der eingebauten Funktion `input()`umsetzen, die den Text der vor der Eingabe angezeigt wird als Parameter entgegennimmt und die Eingabe als Rückgabewert zurückgibt."
   ]
  },
  {
   "cell_type": "code",
   "execution_count": null,
   "id": "04948e93-20fd-49d3-a634-f26ed7040524",
   "metadata": {
    "deletable": false,
    "editable": false,
    "slideshow": {
     "slide_type": ""
    },
    "tags": []
   },
   "outputs": [],
   "source": [
    "eingabe = input(\"Geben Sie etwas ein:\")\n",
    "print(f\"Die Einngabe war: {eingabe}\")"
   ]
  },
  {
   "cell_type": "markdown",
   "id": "a1dfaebe-6f14-41f7-ad6b-97e931aa77a3",
   "metadata": {
    "deletable": false,
    "editable": false,
    "slideshow": {
     "slide_type": ""
    },
    "tags": []
   },
   "source": [
    "### Validierung von Benutzereingaben\n",
    "\n",
    "Da die Funktion `input` immer Zeichenketten zurückgibt, muss der Datentyp umgewandelt werden, falls ein anderer Datentyp benötigt wird. Die Überprüfung erfolgt mittels der Sschlüsselwörter `try` und `catch`:"
   ]
  },
  {
   "cell_type": "code",
   "execution_count": null,
   "id": "e209445c-037a-4a99-af10-745fe3237a56",
   "metadata": {
    "deletable": false,
    "editable": false,
    "slideshow": {
     "slide_type": ""
    },
    "tags": []
   },
   "outputs": [],
   "source": [
    "eingabe = input(\"Geben Sie eine ganze Zahl ein\")\n",
    "try:\n",
    "    ganze_zahl = int(eingabe)\n",
    "    print(f\"Die Zahl ist {ganze_zahl}\")\n",
    "except:\n",
    "    print(f\"'{eingabe}' ist keine ganze Zahl!\")"
   ]
  },
  {
   "cell_type": "markdown",
   "id": "999b835c-dbb4-4b36-908d-0bde5ff8574e",
   "metadata": {
    "deletable": false,
    "editable": false,
    "slideshow": {
     "slide_type": ""
    },
    "tags": []
   },
   "source": [
    "#### Aufgabe 4\n",
    "\n",
    "##### 2 Punkte\n",
    "\n",
    "Erweitern sie die Klasse `Eingabe` um Funktionen für die Ein- und Ausgabe von Zahlen und Texten. Die Fünktionsrümpfe sind unten ausgeführt:\n",
    "- Der text im parameter `prompt` soll für beide Funktionen bei der Eingabe angezeigt werden.\n",
    "- Die Fuktion `zahl()` soll nur ganze Zahlen als input akzeptieren. Für ungültige Eingaben soll sie `None` statt der Zahl zurückgeben.\n",
    "- Die Fuktion `text()` soll keine leeren Engaben akzeptieren. Der Parameter `gültig` ist eine Liste; falls dieser gesetzt ist, sollen nur Eingaben akzeptiert werden, die in der Liste vorhanden sind. Für alle ungültige Eingaben soll die Funktion `None` zurückgeben.\n",
    "- **Entfernen Sie die Zeile `raise NotImplementedError`**"
   ]
  },
  {
   "cell_type": "code",
   "execution_count": null,
   "id": "66973814-7652-4c37-a18c-224caab48b59",
   "metadata": {
    "deletable": false,
    "editable": true,
    "slideshow": {
     "slide_type": ""
    },
    "tags": []
   },
   "outputs": [],
   "source": [
    "class Eingabe:\n",
    "    \n",
    "    def __init__(self):\n",
    "        pass\n",
    "\n",
    "    def zahl(self, prompt):\n",
    "        zahl = input(prompt)\n",
    "        try:\n",
    "            geprüfte_zahl = int(zahl)\n",
    "            return geprüfte_zahl\n",
    "        except:\n",
    "            print(f\"'{zahl}' ist keine Zahl!\")\n",
    "            return None\n",
    "\n",
    "    def text(self, prompt, gültig = []):\n",
    "        text = input(prompt)\n",
    "        if len(text) > 0 and (len(gültig) == 0 or text in gültig):\n",
    "            return text\n",
    "        else:\n",
    "            print(f\"'{text}' ist keine gültige Eingabe!\")\n",
    "            return None"
   ]
  },
  {
   "cell_type": "code",
   "execution_count": null,
   "id": "54980c1a-9663-492f-a820-183e2f0b203b",
   "metadata": {
    "deletable": false,
    "editable": false,
    "slideshow": {
     "slide_type": ""
    },
    "tags": []
   },
   "outputs": [],
   "source": [
    "### Tests\n",
    "eingabe = Eingabe()\n",
    "text = eingabe.text(\"Ein Text:\")\n",
    "print(f\"Der Text lautet {text}\")\n",
    "zahl = eingabe.zahl(\"Eine Zahl:\")\n",
    "print(f\"Die Zahl lautet {zahl}\")"
   ]
  },
  {
   "cell_type": "markdown",
   "id": "922d3a4e-d84c-47f8-89fe-d3a87e72163f",
   "metadata": {
    "deletable": false,
    "editable": false,
    "slideshow": {
     "slide_type": ""
    },
    "tags": []
   },
   "source": [
    "## Dateioperationen\n",
    "\n",
    "Um Daten zwischen Programmläufen (und vor allem vor dem Herunterfahren des Rechners!) abzuspeichern, können diese als Datei gespeichert werden. Dateien haben einen Namen enden üblicherweise mit einem Punkt und einer Dateierweiterung, welche den Typ der Datei beschreibt. Der Speicherort ist standardmäßig der Ort, an dem das Programm ausgeführt wird. \n",
    "\n",
    "Eine Datei wird mit dem Schlüsselwort `with` und der Funktion `open()` geöffnet. Diese bekommt als Paramter den Dateinamen sowie den Modus (`w` für schreiben und `r` für lesen):"
   ]
  },
  {
   "cell_type": "code",
   "execution_count": null,
   "id": "3155be31-f9b8-415d-bed4-3026cf62ac03",
   "metadata": {
    "deletable": false,
    "editable": false,
    "slideshow": {
     "slide_type": ""
    },
    "tags": []
   },
   "outputs": [],
   "source": [
    "dateiname = 'meine_erste_datei.txt'\n",
    "with open(dateiname, 'w') as datei:\n",
    "    datei.write(\"das ist der inhalt\")"
   ]
  },
  {
   "cell_type": "code",
   "execution_count": null,
   "id": "ee3eb2de-48f8-494c-adef-1b856f4015ff",
   "metadata": {
    "deletable": false,
    "editable": false,
    "slideshow": {
     "slide_type": ""
    },
    "tags": []
   },
   "outputs": [],
   "source": [
    "with open(dateiname, 'r') as datei:\n",
    "    inhalt = datei.read()\n",
    "    print(inhalt)"
   ]
  },
  {
   "cell_type": "markdown",
   "id": "00fd8e69-38f0-437f-951e-9f6bfdcb9ed7",
   "metadata": {
    "deletable": false,
    "editable": false,
    "slideshow": {
     "slide_type": ""
    },
    "tags": []
   },
   "source": [
    "Man kann nicht nur Text, sondern auch Objekte speichern, das Dateiformat ist dann oft nur von der Anwendung lesbar, die es erzeugt hat. Dabei müssen die Daten `binär`, d.h. in Nullen und Einsen geschrieben werden - genau so, wie sie auch im Hauptspeicher des Rechner repräsentiert sind (siehe Modus `wb`). Wir benötigen außerdem noch das Modul `pickle`, das uns das Objekt aus dem Hauptspeicher holt bzw. beim Laden dorthin zürückschreibt:"
   ]
  },
  {
   "cell_type": "code",
   "execution_count": null,
   "id": "cd0b396e-fdf9-4c9a-9806-4fcb250a7825",
   "metadata": {
    "deletable": false,
    "editable": false,
    "slideshow": {
     "slide_type": ""
    },
    "tags": []
   },
   "outputs": [],
   "source": [
    "import pickle\n",
    "dateiname = 'meine_erste_datei.bin'\n",
    "with open(dateiname, 'wb') as datei:\n",
    "    datei.write(pickle.dumps(liste))"
   ]
  },
  {
   "cell_type": "code",
   "execution_count": null,
   "id": "19582261-a7bf-4714-8c2d-7e402cf06f16",
   "metadata": {
    "deletable": false,
    "editable": false,
    "slideshow": {
     "slide_type": ""
    },
    "tags": []
   },
   "outputs": [],
   "source": [
    "with open(speicherort + dateiname, 'rb') as datei:\n",
    "    liste2 = pickle.loads(datei.read())\n",
    "    print(liste2)"
   ]
  },
  {
   "cell_type": "markdown",
   "id": "71172e02-bff0-4f01-bdff-89f93d6c88ee",
   "metadata": {
    "deletable": false,
    "editable": false,
    "slideshow": {
     "slide_type": ""
    },
    "tags": []
   },
   "source": [
    "#### Aufgabe 3\n",
    "\n",
    "##### 2 Punkte\n",
    "\n",
    "Erweitern sie die Klasse `Dateimanager` um Funktionen für das Laden und Speichern einer Liste (Attribut `_liste`)\n",
    "- Die Funktion `speichern()` nimmt die Liste und einen Dateinamen entgegen und gibt keinen Wert zurück.\n",
    "- Die Funktion `laden()` einen Dateinamen entgegen und gibt die geladene Liste zurück.\n",
    "- Hinweis: schreiben und lesen Sie im Binnären Format\n",
    "- **Entfernen Sie die Zeile `raise NotImplementedError`**"
   ]
  },
  {
   "cell_type": "code",
   "execution_count": null,
   "id": "df51a5e3-3476-4d51-9740-1bfbc67b8c5b",
   "metadata": {
    "deletable": false,
    "editable": true,
    "slideshow": {
     "slide_type": ""
    },
    "tags": []
   },
   "outputs": [],
   "source": [
    "class Dateimanager:\n",
    "    \n",
    "    def __init__(self):\n",
    "        pass\n",
    "\n",
    "    def speichern(self, liste, dateiname):\n",
    "        with open(dateiname, 'wb') as datei:\n",
    "            datei.write(pickle.dumps(liste))\n",
    "\n",
    "    def laden(self, dateiname):\n",
    "        with open(dateiname, 'rb') as datei:\n",
    "            liste = pickle.loads(datei.read())\n",
    "            return liste"
   ]
  },
  {
   "cell_type": "code",
   "execution_count": null,
   "id": "ae9fca86-3a53-4f7d-b815-da057e0a6fa9",
   "metadata": {
    "deletable": false,
    "editable": false,
    "slideshow": {
     "slide_type": ""
    },
    "tags": []
   },
   "outputs": [],
   "source": [
    "### test:\n",
    "liste = Einkaufsliste(\"Test\")\n",
    "dm = Dateimanager()\n",
    "dm.speichern(liste, \"datei.bin\")\n",
    "liste = dm.laden(\"datei.bin\")\n",
    "print(liste)"
   ]
  },
  {
   "cell_type": "markdown",
   "id": "960ba8c7-7f61-4692-8c95-dd83d37fd7f1",
   "metadata": {
    "deletable": false,
    "editable": false,
    "slideshow": {
     "slide_type": ""
    },
    "tags": []
   },
   "source": [
    "## Ein Fertiges Programm\n",
    "\n",
    "Ob sie alle Teile des Programms richtig implementiert haben, können Sie jetzt ausprobieren. Die `EinkaufslistenApp` verwendet alle Klassen und Funktionen, an denen Sie zuvor gearbeitet haben. Probieren Sie sie aus!"
   ]
  },
  {
   "cell_type": "code",
   "execution_count": null,
   "id": "077d48b8-6dc3-4a76-a2bd-eb59db8dd242",
   "metadata": {
    "deletable": false,
    "editable": false,
    "slideshow": {
     "slide_type": ""
    },
    "tags": []
   },
   "outputs": [],
   "source": [
    "class EinkaufslistenApp:\n",
    "    \n",
    "    def __init__(self):\n",
    "        self.liste = None\n",
    "        self.dm = Dateimanager()\n",
    "        self.eingabe = Eingabe()\n",
    "\n",
    "    def liste_neu(self):\n",
    "        name = self.eingabe.text(\"Wie soll die Liste heißen?\")\n",
    "        if name:\n",
    "            self.liste = Einkaufsliste(name)\n",
    "            self.listenmenu()\n",
    "        else:\n",
    "            self.hauptmenu()\n",
    "\n",
    "    def liste_laden(self):\n",
    "        dateiname = self.eingabe.text(\"Wie heißt die Datei?\")\n",
    "        try:\n",
    "            self.liste = self.dm.laden(dateiname)\n",
    "            self.listenmenu()\n",
    "        except:\n",
    "            print(\"Ein Fehler ist aufgetreten!\")\n",
    "            self.hauptmenu()\n",
    "\n",
    "    def liste_speichern(self):\n",
    "        dateiname = self.eingabe.text(\"Wie heißt die Datei?\")\n",
    "        try:\n",
    "            self.dm.speichern(self.liste, dateiname)\n",
    "            print(\"Gespeichert!\")\n",
    "            self.hauptmenu()\n",
    "        except:\n",
    "            print(\"Ein Fehler ist aufgetreten!\")\n",
    "            self.hauptmenu()\n",
    "\n",
    "    def listenmenu(self):\n",
    "        print(self.liste)\n",
    "        \n",
    "        menu_text = \"[H]inzufügen\\n\"\n",
    "        if self.liste.einträge():\n",
    "            menu_text += \"[S]treichen\\n\"\n",
    "        menu_text += \"[Z]urück\\n\"\n",
    "\n",
    "        print(menu_text)\n",
    "\n",
    "        auswahl = self.eingabe.text(f\"Was möchten sie tun?\\n\", [\"H\", \"S\", \"Z\"])\n",
    "        \n",
    "        if auswahl == \"H\":\n",
    "            produkt = self.eingabe.text(\"Was möchten Sie kaufen?\\n\")\n",
    "            if not produkt:\n",
    "                self.listenmenu()\n",
    "            menge = self.eingabe.zahl(f\"Wieviel {produkt} möchten Sie kaufen?\")\n",
    "            if not menge:\n",
    "                self.listenmenu()\n",
    "            laden = self.eingabe.text(f\"Wo möchten Sie {produkt} kaufen?\")\n",
    "            if not laden:\n",
    "                self.listenmenu()\n",
    "            self.liste.hinzu(laden, produkt, menge)\n",
    "            self.listenmenu()\n",
    "        \n",
    "        elif auswahl == \"S\":\n",
    "            index = self.eingabe.zahl(\"Welche Zeile soll gestrichen werden?\")\n",
    "            if index and index > 0 and index <= self.liste.einträge():\n",
    "                self.liste.streichen(index - 1)\n",
    "                self.listenmenu()\n",
    "            else:\n",
    "                print(f\"{index} ist ein ungültiger Eintrag\")\n",
    "                self.listenmenu()\n",
    "        elif auswahl == \"Z\":\n",
    "            self.hauptmenu()\n",
    "        else:\n",
    "            self.listenmenu()\n",
    "\n",
    "    def hauptmenu(self):\n",
    "        menu_text = \"[N]eu\\n\"\n",
    "        menu_text += \"[L]aden\\n\"\n",
    "        if self.liste:\n",
    "            menu_text += \"[S]peichern\\n\"\n",
    "        menu_text += \"[B]eenden\\n\"\n",
    "        print(menu_text)\n",
    "        auswahl = self.eingabe.text(\"Was möchten sie tun?\\n\", [\"N\", \"L\", \"S\", \"B\"])\n",
    "        \n",
    "        if auswahl == \"N\":\n",
    "            self.liste_neu()\n",
    "        elif auswahl == \"L\":\n",
    "            self.liste_laden()\n",
    "        elif auswahl == \"S\":\n",
    "            self.liste_speichern()\n",
    "        elif auswahl == \"B\":\n",
    "            return\n",
    "        else:\n",
    "            self.hauptmenu()\n"
   ]
  },
  {
   "cell_type": "code",
   "execution_count": null,
   "id": "7b6c4d13-c01c-4bef-9911-d2d5a7450b69",
   "metadata": {
    "deletable": false,
    "editable": false,
    "slideshow": {
     "slide_type": ""
    },
    "tags": []
   },
   "outputs": [],
   "source": [
    "app = EinkaufslistenApp()\n",
    "app.hauptmenu()"
   ]
  },
  {
   "cell_type": "markdown",
   "id": "3f8dfa3a-1015-4afa-887a-f98e37262c91",
   "metadata": {
    "deletable": false,
    "editable": false,
    "slideshow": {
     "slide_type": ""
    },
    "tags": []
   },
   "source": [
    "# Herzlichen Glückwunsch!!!\n",
    "\n",
    "<img src=\"img/success.gif\" width=\"480\" height=\"269\">"
   ]
  }
 ],
 "metadata": {
  "kernelspec": {
   "display_name": "Python 3 (ipykernel)",
   "language": "python",
   "name": "python3"
  },
  "language_info": {
   "codemirror_mode": {
    "name": "ipython",
    "version": 3
   },
   "file_extension": ".py",
   "mimetype": "text/x-python",
   "name": "python",
   "nbconvert_exporter": "python",
   "pygments_lexer": "ipython3",
   "version": "3.10.10"
  }
 },
 "nbformat": 4,
 "nbformat_minor": 5
}
