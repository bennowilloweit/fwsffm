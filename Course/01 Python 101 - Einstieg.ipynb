{
 "cells": [
  {
   "cell_type": "markdown",
   "id": "765947c4-dee6-444a-9c50-439e97726e0a",
   "metadata": {
    "deletable": false,
    "editable": false,
    "slideshow": {
     "slide_type": ""
    },
    "tags": []
   },
   "source": [
    "# Python Einstieg\n",
    "\n",
    "Wir lernen zunächst die Grundlagen der Programmiersprache Python. Die Sprache ist sowohl in Anwendungen der Naturwissenschaften als auch der Datenwissenschaften und insbesondere der Entwicklung Künstlicher intellegenz sehr verbreitet. In den folgenden drei Einheiten soll ein bewusst knapp gehaltener Eisntieg in die Programmierung mit Python gelingen.\n",
    "\n",
    "## Was ist eine Programmiersprache?\n",
    "\n",
    "Eine Programmiersprache ist eine formale, künstlich erstellte Sprache, die zur Kommunikation zwischen Mensch und Computer dient. Sie ermöglicht es, **Datenstrukturen** und **Algorithmen** zu definieren, die von einem Computer ausgeführt werden können. Programmiersprachen bestehen aus Sytax- und Semantikregeln, die festlegen, wie **Programme** geschrieben werden sollen.\n",
    "\n",
    "## Kursübersicht\n",
    "- **Datenstrukturen**\n",
    "    Wir lernen, wie verschiedene Daten repräsentiert, verändert und verknüpft  werden (Literale, Variablen, Operatoren und komplexe Datentypen)\n",
    "- **Algorithmen**\n",
    "    Ein Algorithmus ist eine präzise, endliche Abfolge von definierten Schritten zur Lösung eines Problems oder einer Aufgabe. Wir lernen, wie sich diese Schritte in Python formulieren lassen. (Schleifen, Bedingungen, Funktionen)\n",
    "- **Programme**\n",
    "    Wir lernen, wie wir Algorithmen und Daten zu einem benutzbaren Programm zusammensetzen. (Klassen, Dateioperationen)"
   ]
  },
  {
   "cell_type": "markdown",
   "id": "336f9881-5865-43ad-a60f-52c90426d031",
   "metadata": {
    "deletable": false,
    "editable": false,
    "slideshow": {
     "slide_type": ""
    },
    "tags": []
   },
   "source": [
    "## Kommentare\n",
    "\n",
    "Kommentare werden nicht vom rechner ausgeführt und dienen lediglich den Programmierer*innen zur Orientierung. Kommentare beginnen in Python mit einem `#` am Anfang der Zeile."
   ]
  },
  {
   "cell_type": "code",
   "execution_count": null,
   "id": "35299b93-7ec6-4d6f-843f-7f17b41a226d",
   "metadata": {
    "deletable": false,
    "editable": false,
    "tags": []
   },
   "outputs": [],
   "source": [
    "# Hier steht ein Kommentar"
   ]
  },
  {
   "cell_type": "markdown",
   "id": "7607e93d-ac71-4695-af3c-ae9b92145281",
   "metadata": {
    "deletable": false,
    "editable": false,
    "tags": []
   },
   "source": [
    "## Literale\n",
    "\n",
    "Unveränderliche Daten werden Literale genannt. Literale haben einen bestimmten Datentyp."
   ]
  },
  {
   "cell_type": "code",
   "execution_count": null,
   "id": "a09e0bb9-8188-4bfe-82ea-86e938616222",
   "metadata": {
    "deletable": false,
    "editable": false,
    "tags": []
   },
   "outputs": [],
   "source": [
    "# Zeichenkette\n",
    "\"Felix\""
   ]
  },
  {
   "cell_type": "code",
   "execution_count": null,
   "id": "3c38c1df-0577-40b9-8c24-49b5b2f40e36",
   "metadata": {
    "deletable": false,
    "editable": false,
    "tags": []
   },
   "outputs": [],
   "source": [
    "# Zahl\n",
    "42"
   ]
  },
  {
   "cell_type": "markdown",
   "id": "70a9928b-a9d3-40c9-ad0a-320f95f1b0c0",
   "metadata": {
    "deletable": false,
    "editable": false,
    "tags": []
   },
   "source": [
    "Achtung: Bei Dezimalzahlen wird wie im Englischen üblich ein Punkt statt des Kommas als Dezimaltrenner verwendet."
   ]
  },
  {
   "cell_type": "code",
   "execution_count": null,
   "id": "77b7f6d0-451e-41ef-aa5c-64a24378ca60",
   "metadata": {
    "deletable": false,
    "editable": false,
    "tags": []
   },
   "outputs": [],
   "source": [
    "# Zahl mit Dezimalstellen\n",
    "1.76"
   ]
  },
  {
   "cell_type": "markdown",
   "id": "db949152-8af3-4473-9a41-9297dbc1e513",
   "metadata": {
    "deletable": false,
    "editable": false,
    "tags": []
   },
   "source": [
    "## Variablen\n",
    "\n",
    "Veränderliche Daten werden **Variablen** genannt. Der Wert einer Variablen wird mit dem Zweisungsoperator `=` gesetzt. Achtung: Variablennamen müssen mit einem Unterstrich und einem Buchstaben beginnen und können nur Buchstaben, Ziffern und Unterstriche enthalten."
   ]
  },
  {
   "cell_type": "code",
   "execution_count": null,
   "id": "1cc2c493-8346-470a-8c7e-4ab70c237f35",
   "metadata": {
    "deletable": false,
    "editable": false,
    "tags": []
   },
   "outputs": [],
   "source": [
    "erster-versuch = False"
   ]
  },
  {
   "cell_type": "code",
   "execution_count": null,
   "id": "069e0016-3ec5-4542-a690-cc406e3122ac",
   "metadata": {
    "deletable": false,
    "editable": false,
    "tags": []
   },
   "outputs": [],
   "source": [
    "2ter_versuch = False"
   ]
  },
  {
   "cell_type": "code",
   "execution_count": null,
   "id": "e164f7cb-771a-466b-8e30-0cdc0c9d1eab",
   "metadata": {},
   "outputs": [],
   "source": [
    "dritter_versuch = True\n",
    "versuch3 = True"
   ]
  },
  {
   "cell_type": "code",
   "execution_count": null,
   "id": "c6d2f5e8-f786-476d-be42-cd97016e87a7",
   "metadata": {
    "deletable": false,
    "editable": false,
    "tags": []
   },
   "outputs": [],
   "source": [
    "name = \"Felix\"\n",
    "alter = 42\n",
    "größe = 1.76\n",
    "trägt_brille = True"
   ]
  },
  {
   "cell_type": "markdown",
   "id": "14ca4b03-f0fb-48f6-bf41-db34fab53c0a",
   "metadata": {
    "tags": []
   },
   "source": [
    "Schreibt man eine Variable ohne Zuweisung, wird ihr Wert ausgegeben."
   ]
  },
  {
   "cell_type": "code",
   "execution_count": null,
   "id": "90944bee-475f-47e6-a046-21679860b96b",
   "metadata": {
    "deletable": false,
    "editable": false,
    "tags": []
   },
   "outputs": [],
   "source": [
    "name"
   ]
  },
  {
   "cell_type": "markdown",
   "id": "2f71009d-fcf2-46c0-92ca-9df00d24832f",
   "metadata": {
    "deletable": false,
    "editable": false,
    "tags": []
   },
   "source": [
    "Variablen müssen erst mit einen Wert zugewiesen bekommen, bevor sie genutzt werden können. Groß und Kleinschreibung sind zu beachten  "
   ]
  },
  {
   "cell_type": "code",
   "execution_count": null,
   "id": "d7e6cf4a-dcc7-440e-9bbe-910ee00501f6",
   "metadata": {
    "deletable": false,
    "editable": false,
    "tags": []
   },
   "outputs": [],
   "source": [
    "Name"
   ]
  },
  {
   "cell_type": "markdown",
   "id": "88be1db9-a256-4f39-b149-7008ddbd16e0",
   "metadata": {
    "tags": []
   },
   "source": [
    "Jede Zuweisung überschreibt den alten Wert einer Variable."
   ]
  },
  {
   "cell_type": "code",
   "execution_count": null,
   "id": "807ad29e-ee7b-468a-ba83-709b1ab980d8",
   "metadata": {
    "deletable": false,
    "editable": false,
    "tags": []
   },
   "outputs": [],
   "source": [
    "name = \"Benno Felix\""
   ]
  },
  {
   "cell_type": "code",
   "execution_count": null,
   "id": "57a195b2-a5c6-4b46-b1e2-5f1908a427e2",
   "metadata": {
    "tags": []
   },
   "outputs": [],
   "source": [
    "name"
   ]
  },
  {
   "cell_type": "markdown",
   "id": "42df9249-930a-4b2d-86e4-3180fb6c04cf",
   "metadata": {
    "deletable": false,
    "editable": false,
    "tags": []
   },
   "source": [
    "Mit `print()` lassen sich Variablen und Literale kombiniert ausgeben. Vor der Zeichenkette steht dabei ein `f`und um die Variablennamen herum stehen geschweifte Klammern `{`und `}`. (Auf der Tastatur mit Alt Gr + 7 bzw 0 zu erreichen)"
   ]
  },
  {
   "cell_type": "code",
   "execution_count": null,
   "id": "f5437a24-b8d7-4007-a54c-3fb3795e0c09",
   "metadata": {
    "deletable": false,
    "editable": false,
    "tags": []
   },
   "outputs": [],
   "source": [
    "print(f\"Ich heisse {name}, bin {alter} Jahre alt und {größe}m groß\")"
   ]
  },
  {
   "cell_type": "markdown",
   "id": "e382bbc9-baf1-4f85-bada-d0e77670faa3",
   "metadata": {
    "deletable": false,
    "editable": false,
    "slideshow": {
     "slide_type": ""
    },
    "tags": []
   },
   "source": [
    "#### Aufgabe 1\n",
    "\n",
    "##### 1 Punkt\n",
    "\n",
    "Ändern sie den Inhalt der Variablen `name`, `alter` und `größe`. Geben Sie anschließend den Inhalt aller drei Variablen in einem Satz aus."
   ]
  },
  {
   "cell_type": "code",
   "execution_count": null,
   "id": "7a17d24d-7838-455b-bd03-215d4322afeb",
   "metadata": {
    "deletable": false,
    "editable": true,
    "slideshow": {
     "slide_type": ""
    },
    "tags": []
   },
   "outputs": [],
   "source": [
    "### hier steht ihr Code"
   ]
  },
  {
   "cell_type": "markdown",
   "id": "3b080e1d-c051-4406-874c-8cdc949517de",
   "metadata": {
    "deletable": false,
    "editable": false,
    "slideshow": {
     "slide_type": ""
    },
    "tags": []
   },
   "source": [
    "## Einfache Datentypen\n",
    "\n",
    "Versschiedene Daten sind unterschiedlich im Speicher des Rechners repräsentiert. Der Typ wird bei Nutzung des Zuweisungsoperators automatisch festgelegt."
   ]
  },
  {
   "cell_type": "markdown",
   "id": "9bb669ed-1a53-4c27-b731-93d6fd5bf97a",
   "metadata": {
    "deletable": false,
    "editable": false,
    "tags": []
   },
   "source": [
    "### Die Feststellung des Datentyps\n",
    "\n",
    "erfolgt mittels der `type()` Funktion:"
   ]
  },
  {
   "cell_type": "code",
   "execution_count": null,
   "id": "9db0c4e0-d4da-43e3-b921-2157caa3039e",
   "metadata": {
    "deletable": false,
    "editable": false,
    "tags": []
   },
   "outputs": [],
   "source": [
    "type(name)"
   ]
  },
  {
   "cell_type": "code",
   "execution_count": null,
   "id": "c0569c55-97bf-4905-80c0-c887bee9bec8",
   "metadata": {
    "deletable": false,
    "editable": false,
    "tags": []
   },
   "outputs": [],
   "source": [
    "type(größe)"
   ]
  },
  {
   "cell_type": "code",
   "execution_count": null,
   "id": "6ba3fe38-8ea9-4ae2-bcf1-50b87210bb8e",
   "metadata": {
    "deletable": false,
    "editable": false,
    "tags": []
   },
   "outputs": [],
   "source": [
    "type(42)"
   ]
  },
  {
   "cell_type": "markdown",
   "id": "ab7cf4d4-37c9-42ec-9403-f3073905849d",
   "metadata": {
    "deletable": false,
    "editable": false,
    "tags": []
   },
   "source": [
    "Neben Zeichenketten (`str`), Fließkommazahlen (`float`) und ganzen Zahlen (`int`) gibt es noch Wahrheitswerte (Bool'sche werte), die nur die Werte `True`oder `False` annehmen können:"
   ]
  },
  {
   "cell_type": "code",
   "execution_count": null,
   "id": "cf8559bb-83b2-4faa-8fc0-73c49652ead1",
   "metadata": {
    "deletable": false,
    "editable": false,
    "tags": []
   },
   "outputs": [],
   "source": [
    "type(trägt_brille)"
   ]
  },
  {
   "cell_type": "markdown",
   "id": "4f7a9997-e3ba-4677-bc13-9515de5a8615",
   "metadata": {
    "deletable": false,
    "editable": false,
    "tags": []
   },
   "source": [
    "### Ändern von Datentypen\n",
    "\n",
    "Falls sinnvoll (und möglich), lassen sich die Datentypen auch explizit ändern:"
   ]
  },
  {
   "cell_type": "code",
   "execution_count": null,
   "id": "e68d1446-3482-4973-a101-62f37e25b5b4",
   "metadata": {
    "deletable": false,
    "editable": false,
    "tags": []
   },
   "outputs": [],
   "source": [
    "str(alter)"
   ]
  },
  {
   "cell_type": "code",
   "execution_count": null,
   "id": "eeaf9485-f5d2-4615-81a1-8599e92377bc",
   "metadata": {
    "deletable": false,
    "editable": false,
    "tags": []
   },
   "outputs": [],
   "source": [
    "int(größe)"
   ]
  },
  {
   "cell_type": "code",
   "execution_count": null,
   "id": "65e728fa-0c6b-41d8-904b-42dc4123abbb",
   "metadata": {
    "deletable": false,
    "editable": false,
    "tags": []
   },
   "outputs": [],
   "source": [
    "float(name)"
   ]
  },
  {
   "cell_type": "code",
   "execution_count": null,
   "id": "1bc7ce93-1d62-47a3-a211-f57dc5b15e15",
   "metadata": {
    "deletable": false,
    "editable": false,
    "tags": []
   },
   "outputs": [],
   "source": [
    "float('3.124')"
   ]
  },
  {
   "cell_type": "markdown",
   "id": "ab04dedd-0646-4f1b-b6c6-d872773db622",
   "metadata": {
    "deletable": false,
    "editable": false,
    "slideshow": {
     "slide_type": ""
    },
    "tags": []
   },
   "source": [
    "#### Aufgabe 2\n",
    "\n",
    "##### 1 Punkt\n",
    "\n",
    "Für welche ganze Zahl ist der Wahrheitswert `False`?"
   ]
  },
  {
   "cell_type": "code",
   "execution_count": null,
   "id": "7b6b09a4-054a-424e-ad43-4521fd48326b",
   "metadata": {
    "deletable": false,
    "editable": true,
    "slideshow": {
     "slide_type": ""
    },
    "tags": []
   },
   "outputs": [],
   "source": [
    "### hier steht ihr Code\n",
    "wert = 42\n",
    "bool(wert)"
   ]
  },
  {
   "cell_type": "markdown",
   "id": "fbf3463f-3fd8-4b91-84cd-0993558687c0",
   "metadata": {
    "deletable": false,
    "editable": false,
    "tags": []
   },
   "source": [
    "## Operatoren\n",
    "\n",
    "Operatoren vernüpfen Variablen und / oder Literale. Ihre Bedeutung ergibt sich aber immer nur aus dem Zusammenhang mit dem Typ der beteiligten Variablen und / oder Literale."
   ]
  },
  {
   "cell_type": "markdown",
   "id": "175123d4-ad19-4ece-9aaa-40ae2bf7d534",
   "metadata": {
    "deletable": false,
    "editable": false,
    "tags": []
   },
   "source": [
    "### Arithmetische Operatoren\n",
    "... werden genutzt um Berechnungen durchzuführen"
   ]
  },
  {
   "cell_type": "code",
   "execution_count": null,
   "id": "503cb50a-4b61-4b04-ba56-6550fd3a3e0a",
   "metadata": {
    "deletable": false,
    "editable": false,
    "tags": []
   },
   "outputs": [],
   "source": [
    "# Ein paar neue Variablen\n",
    "a = 5\n",
    "b = 7\n",
    "c = 3"
   ]
  },
  {
   "cell_type": "code",
   "execution_count": null,
   "id": "f78382e0-9b2d-46ae-a38e-dab09490fbfe",
   "metadata": {
    "deletable": false,
    "editable": false,
    "tags": []
   },
   "outputs": [],
   "source": [
    "# Addieren\n",
    "a + c"
   ]
  },
  {
   "cell_type": "code",
   "execution_count": null,
   "id": "03e19b1d-5160-49aa-b011-3fd48c6ce3e4",
   "metadata": {
    "deletable": false,
    "editable": false,
    "tags": []
   },
   "outputs": [],
   "source": [
    "# Multiplizieren\n",
    "b * c"
   ]
  },
  {
   "cell_type": "code",
   "execution_count": null,
   "id": "7ce583d1-4c2a-4b49-b988-5eb02eaaafc4",
   "metadata": {
    "deletable": false,
    "editable": false,
    "tags": []
   },
   "outputs": [],
   "source": [
    "# Subtrahieren\n",
    "c - b"
   ]
  },
  {
   "cell_type": "code",
   "execution_count": null,
   "id": "b027c978-716c-4e9b-940d-6ecb9d3885cc",
   "metadata": {
    "deletable": false,
    "editable": false,
    "tags": []
   },
   "outputs": [],
   "source": [
    "# Dividieren\n",
    "b / c"
   ]
  },
  {
   "cell_type": "code",
   "execution_count": null,
   "id": "f2eb4c6a-6407-47f1-a9b0-83cebd756dce",
   "metadata": {
    "deletable": false,
    "editable": false,
    "tags": []
   },
   "outputs": [],
   "source": [
    "# Ganzzahlig Dividieren\n",
    "b // c"
   ]
  },
  {
   "cell_type": "code",
   "execution_count": null,
   "id": "78849698-d48f-45e5-b9b4-29fbb0235755",
   "metadata": {
    "deletable": false,
    "editable": false,
    "tags": []
   },
   "outputs": [],
   "source": [
    "# Rest der Division (Modulo)\n",
    "b % c"
   ]
  },
  {
   "cell_type": "code",
   "execution_count": null,
   "id": "7e385b7b-6872-45ee-98e6-bb16278c427b",
   "metadata": {
    "deletable": false,
    "editable": false,
    "tags": []
   },
   "outputs": [],
   "source": [
    "# Potenz\n",
    "a ** 2"
   ]
  },
  {
   "cell_type": "code",
   "execution_count": null,
   "id": "e22ff53f-ded1-4171-9165-a2c3ce35526c",
   "metadata": {
    "deletable": false,
    "editable": false,
    "tags": []
   },
   "outputs": [],
   "source": [
    "# Vorrang von Operatoren\n",
    "a + b * c"
   ]
  },
  {
   "cell_type": "code",
   "execution_count": null,
   "id": "f4c0be88-894c-4dc3-96fb-75d4924819fd",
   "metadata": {
    "deletable": false,
    "editable": false,
    "tags": []
   },
   "outputs": [],
   "source": [
    "# Klammern\n",
    "(a + b) * c"
   ]
  },
  {
   "cell_type": "markdown",
   "id": "e44a9ab6-014e-4b5b-8b1c-f8b38f5a6b8d",
   "metadata": {
    "deletable": false,
    "editable": false,
    "tags": []
   },
   "source": [
    "... oder Zeichenketten zu verknüpfen"
   ]
  },
  {
   "cell_type": "code",
   "execution_count": null,
   "id": "dc08d036-5957-40c1-a707-ae5186964389",
   "metadata": {
    "deletable": false,
    "editable": false,
    "tags": []
   },
   "outputs": [],
   "source": [
    "obst = 'Banane'\n",
    "gemüse = 'Kohl'"
   ]
  },
  {
   "cell_type": "code",
   "execution_count": null,
   "id": "a69e3b54-aad7-4f19-aea0-9d6bf1abbb42",
   "metadata": {
    "deletable": false,
    "editable": false,
    "tags": []
   },
   "outputs": [],
   "source": [
    "obst + gemüse"
   ]
  },
  {
   "cell_type": "markdown",
   "id": "9a98aab0-081f-4526-aa79-b1e8010e07cf",
   "metadata": {
    "deletable": false,
    "editable": false,
    "tags": []
   },
   "source": [
    "Nicht all operatoren haben für alle Datentypen eine Bedeuting!"
   ]
  },
  {
   "cell_type": "code",
   "execution_count": null,
   "id": "d4181b42-81ae-406b-a939-c0d87818258e",
   "metadata": {
    "deletable": false,
    "editable": false,
    "tags": []
   },
   "outputs": [],
   "source": [
    "obst - gemüse"
   ]
  },
  {
   "cell_type": "markdown",
   "id": "2b649af1-9196-4346-840c-2ad829c2c0ad",
   "metadata": {
    "deletable": false,
    "editable": false,
    "tags": []
   },
   "source": [
    "### Vergleichsoperatoren\n",
    "\n",
    "Damit lassen sich Variablen und / oder Literale vergleichen, das Ergebnis ist immer ein Wahreitswert `True`oder `False`."
   ]
  },
  {
   "cell_type": "code",
   "execution_count": null,
   "id": "2c35629c-9d41-4299-b173-a293da80c6b0",
   "metadata": {
    "deletable": false,
    "editable": false,
    "tags": []
   },
   "outputs": [],
   "source": [
    "# Gleichheit\n",
    "a == b"
   ]
  },
  {
   "cell_type": "code",
   "execution_count": null,
   "id": "efd7370d-5bce-478e-9f25-8739e8e33673",
   "metadata": {
    "deletable": false,
    "editable": false,
    "tags": []
   },
   "outputs": [],
   "source": [
    "# Ungleichheit\n",
    "a != b"
   ]
  },
  {
   "cell_type": "code",
   "execution_count": null,
   "id": "082cdd83-cf42-47ac-b174-82a1ca36d1ff",
   "metadata": {
    "deletable": false,
    "editable": false,
    "tags": []
   },
   "outputs": [],
   "source": [
    "# Größer\n",
    "a > b"
   ]
  },
  {
   "cell_type": "code",
   "execution_count": null,
   "id": "d1d9cefc-f6a4-4603-ae43-92c1e868f7c4",
   "metadata": {
    "deletable": false,
    "editable": false,
    "tags": []
   },
   "outputs": [],
   "source": [
    "# Kleiner\n",
    "a < b"
   ]
  },
  {
   "cell_type": "code",
   "execution_count": null,
   "id": "88ff1d8a-d077-4336-9ad0-56674ff51cb9",
   "metadata": {
    "deletable": false,
    "editable": false,
    "tags": []
   },
   "outputs": [],
   "source": [
    "# Größer gleich\n",
    "b + c >= 8"
   ]
  },
  {
   "cell_type": "code",
   "execution_count": null,
   "id": "c9c51b3d-1945-4b70-9a0f-31fd654a5238",
   "metadata": {
    "deletable": false,
    "editable": false,
    "tags": []
   },
   "outputs": [],
   "source": [
    "# Kleiner gleich\n",
    "b + c <= 9"
   ]
  },
  {
   "cell_type": "code",
   "execution_count": null,
   "id": "c1bc95ac-5046-4b1c-bfe4-10f5552c1953",
   "metadata": {
    "deletable": false,
    "editable": false,
    "tags": []
   },
   "outputs": [],
   "source": [
    "obst = 'Banane'\n",
    "gemüse = 'Kohl'"
   ]
  },
  {
   "cell_type": "code",
   "execution_count": null,
   "id": "0518ae69-8943-4f9f-80b7-0c2d3a52b3eb",
   "metadata": {
    "deletable": false,
    "editable": false,
    "tags": []
   },
   "outputs": [],
   "source": [
    "gemüse == obst"
   ]
  },
  {
   "cell_type": "code",
   "execution_count": null,
   "id": "0471e82c-4dce-400c-b874-be13c45c98c1",
   "metadata": {
    "deletable": false,
    "editable": false,
    "tags": []
   },
   "outputs": [],
   "source": [
    "gemüse > obst"
   ]
  },
  {
   "cell_type": "markdown",
   "id": "d0488a22-89bb-43ba-af34-5fef475527bf",
   "metadata": {
    "deletable": false,
    "editable": false,
    "tags": []
   },
   "source": [
    "### Logische Operatoren\n",
    "\n",
    "Mit logischen Operatoren lassen sich Vergleiche verknüpfen "
   ]
  },
  {
   "cell_type": "code",
   "execution_count": null,
   "id": "0add81d1-52ef-4741-9935-9b79e3f8d1ee",
   "metadata": {
    "deletable": false,
    "editable": false,
    "tags": []
   },
   "outputs": [],
   "source": [
    "# und (ist a gleich 2 UND b gleich 7?)\n",
    "a == 2 and b == 7"
   ]
  },
  {
   "cell_type": "code",
   "execution_count": null,
   "id": "4e030fa9-0d3d-4d47-a188-3b36dfa5f912",
   "metadata": {
    "deletable": false,
    "editable": false,
    "tags": []
   },
   "outputs": [],
   "source": [
    "# oder (ist a gleich 2 ODER b gleich 7?)\n",
    "a == 2 or b == 7"
   ]
  },
  {
   "cell_type": "code",
   "execution_count": null,
   "id": "fae7c462-3425-46a5-a31a-e4cbb5d2905f",
   "metadata": {
    "deletable": false,
    "editable": false,
    "tags": []
   },
   "outputs": [],
   "source": [
    "# nicht (ist nicht a gleich 2 UND b gleich 7?)\n",
    "not a == 2 and b == 7"
   ]
  },
  {
   "cell_type": "markdown",
   "id": "5c71e438-1a33-44f2-8fcc-c9d2fb83a90f",
   "metadata": {
    "deletable": false,
    "editable": false,
    "movable": false,
    "slideshow": {
     "slide_type": ""
    },
    "tags": []
   },
   "source": [
    "#### Aufgabe 3\n",
    "\n",
    "##### 1 Punkt\n",
    "\n",
    "Berechnen Sie die Grundfläche eines Dreiecks `A = 1/2 * g * h` mit `g = 7` und `h = 5`. Geben Sie A aus."
   ]
  },
  {
   "cell_type": "code",
   "execution_count": null,
   "id": "02037cab-e758-4beb-af5b-bac5c3df236a",
   "metadata": {
    "editable": true,
    "slideshow": {
     "slide_type": ""
    },
    "tags": []
   },
   "outputs": [],
   "source": [
    "### hier steht ihr Code"
   ]
  },
  {
   "cell_type": "markdown",
   "id": "a9a1660a-c863-44dd-8677-901c63e3dc92",
   "metadata": {
    "deletable": false,
    "editable": false,
    "tags": []
   },
   "source": [
    "## Weitere Datentypen\n",
    "\n",
    "Sie haben jetzt einige Datentypen kennengelernt: \n",
    "- Ganze Zahlen\n",
    "- Dezimalzahlen\n",
    "- Zeichenketten (Strings)\n",
    "- Warheitswerte (Bool'sche Werte)\n",
    "\n",
    "Wenden wir uns jetzt zusammengesetzten Datentypen zu."
   ]
  },
  {
   "cell_type": "markdown",
   "id": "782048f5-6842-4bc8-8dac-9afc7a3e192c",
   "metadata": {
    "deletable": false,
    "editable": false,
    "tags": []
   },
   "source": [
    "### Listen\n",
    "Listen eignen sich um eine Reihenfolge von Werten zu speichern. Das Literal einer Liste wird in eckigen Klammern `[`, `]`geschrieben (auf der Tastatur über Alt Gr + 8 bzw. 9 erreichbar), die Elemente der Liste sind durch Kommata getrennt."
   ]
  },
  {
   "cell_type": "code",
   "execution_count": null,
   "id": "7756ec10-14d6-4e92-891b-4a626a1d45ed",
   "metadata": {
    "deletable": false,
    "editable": false,
    "tags": []
   },
   "outputs": [],
   "source": [
    "einkaufsliste = [\"Fisch\", \"Ananas\", \"Bananen\"]"
   ]
  },
  {
   "cell_type": "markdown",
   "id": "81c8e72e-3520-48ef-b29f-cd5832016fa6",
   "metadata": {
    "deletable": false,
    "editable": false,
    "tags": []
   },
   "source": [
    "Die Elemente der Liste lassen sich über ihren Index auswählen. Achtung: der Index des ersten elements ist 0 und nicht 1!"
   ]
  },
  {
   "cell_type": "code",
   "execution_count": null,
   "id": "83d3ac13-b930-4d25-bd39-6ebf9f8a0245",
   "metadata": {
    "deletable": false,
    "editable": false,
    "tags": []
   },
   "outputs": [],
   "source": [
    "einkaufsliste[0]"
   ]
  },
  {
   "cell_type": "markdown",
   "id": "13e1466e-8017-4a51-ad2d-bb09e15726db",
   "metadata": {
    "deletable": false,
    "editable": false,
    "tags": []
   },
   "source": [
    "Die Länge der Liste lässt sich mit `len()`bestimmen"
   ]
  },
  {
   "cell_type": "code",
   "execution_count": null,
   "id": "7b21d617-1274-462e-8cd5-3d59436c26fe",
   "metadata": {
    "deletable": false,
    "editable": false,
    "tags": []
   },
   "outputs": [],
   "source": [
    "len(einkaufsliste)"
   ]
  },
  {
   "cell_type": "markdown",
   "id": "ec3ab7a5-6bd7-455b-8829-76a8692c2a5d",
   "metadata": {
    "deletable": false,
    "editable": false,
    "tags": []
   },
   "source": [
    "Das letzte Element der Liste lässt sich auch mit dem Index -1 auswählen."
   ]
  },
  {
   "cell_type": "code",
   "execution_count": null,
   "id": "f76a1759-e372-4613-bbff-3bbcf38bbd0e",
   "metadata": {
    "deletable": false,
    "editable": false,
    "tags": []
   },
   "outputs": [],
   "source": [
    "einkaufsliste[-1]"
   ]
  },
  {
   "cell_type": "markdown",
   "id": "f1900c1a-5eab-482c-b30d-630ccdaddac7",
   "metadata": {
    "deletable": false,
    "editable": false,
    "tags": []
   },
   "source": [
    "Falls man einen Eintrag wählt der nicht vorhanden ist, führt das zu einem Fehler."
   ]
  },
  {
   "cell_type": "code",
   "execution_count": null,
   "id": "a2a57337-48ba-42d2-b038-4cdba42dae2c",
   "metadata": {
    "deletable": false,
    "editable": false,
    "tags": []
   },
   "outputs": [],
   "source": [
    "einkaufsliste[7]"
   ]
  },
  {
   "cell_type": "markdown",
   "id": "a7aa9853-2f0e-4d53-89cd-1908dacb60a3",
   "metadata": {
    "deletable": false,
    "editable": false,
    "tags": []
   },
   "source": [
    "Listen können kombiniert werden"
   ]
  },
  {
   "cell_type": "code",
   "execution_count": null,
   "id": "6657736d-8179-4a32-b301-3cf7a0147386",
   "metadata": {
    "deletable": false,
    "editable": false,
    "tags": []
   },
   "outputs": [],
   "source": [
    "einkaufsliste + ['Ei']"
   ]
  },
  {
   "cell_type": "markdown",
   "id": "5ccffa30-d00f-409d-bfec-69b9a8ac9c56",
   "metadata": {
    "deletable": false,
    "editable": false,
    "tags": []
   },
   "source": [
    "Allerdings entsteht dabei eine neue Liste, die alte Liste bleibt unverändert."
   ]
  },
  {
   "cell_type": "code",
   "execution_count": null,
   "id": "f1ab253a-2575-46df-80c3-abe4d864f3d2",
   "metadata": {
    "deletable": false,
    "editable": false,
    "tags": []
   },
   "outputs": [],
   "source": [
    "einkaufsliste"
   ]
  },
  {
   "cell_type": "markdown",
   "id": "ec4e5d3b-32a7-493a-871b-5e0aa2a29502",
   "metadata": {
    "deletable": false,
    "editable": false,
    "tags": []
   },
   "source": [
    "Es sei denn, man weist die Neue Liste dem Namen der alten Liste zu."
   ]
  },
  {
   "cell_type": "code",
   "execution_count": null,
   "id": "92291e62-d1c9-43ce-9589-7fcc425c9359",
   "metadata": {
    "deletable": false,
    "editable": false,
    "tags": []
   },
   "outputs": [],
   "source": [
    "einkaufsliste = einkaufsliste + ['Ei']\n",
    "einkaufsliste"
   ]
  },
  {
   "cell_type": "code",
   "execution_count": null,
   "id": "f9f0d712-4996-4b1e-a75d-13aa23c879c2",
   "metadata": {
    "deletable": false,
    "editable": false,
    "tags": []
   },
   "outputs": [],
   "source": [
    "einkaufsliste = einkaufsliste + ['Chips', 'Cola']\n",
    "einkaufsliste"
   ]
  },
  {
   "cell_type": "markdown",
   "id": "086e643c-180f-478f-ad86-93b73676af6c",
   "metadata": {
    "deletable": false,
    "editable": false,
    "tags": []
   },
   "source": [
    "Elemente können auch mit `append()` hinzugefügt werden - hierbei wird die Liste tatsächlich verändert."
   ]
  },
  {
   "cell_type": "code",
   "execution_count": null,
   "id": "f50feb0b-abef-428a-b8a8-b0c37c2c365d",
   "metadata": {
    "deletable": false,
    "editable": false,
    "tags": []
   },
   "outputs": [],
   "source": [
    "einkaufsliste.append('Wein')\n",
    "einkaufsliste"
   ]
  },
  {
   "cell_type": "markdown",
   "id": "3bc052ff-73d3-4ecd-812b-fb1e6aaf2cc7",
   "metadata": {
    "deletable": false,
    "editable": false,
    "tags": []
   },
   "source": [
    "Mit `pop()` kann das letzte Listenelement entfernt werden."
   ]
  },
  {
   "cell_type": "code",
   "execution_count": null,
   "id": "01293a00-67b8-4852-8cd9-8efae642fcc4",
   "metadata": {
    "tags": []
   },
   "outputs": [],
   "source": [
    "einkaufsliste.pop()\n",
    "einkaufsliste"
   ]
  },
  {
   "cell_type": "markdown",
   "id": "180b5883-5b18-4f6f-9f4d-746c08c63b1f",
   "metadata": {
    "deletable": false,
    "editable": false,
    "tags": []
   },
   "source": [
    "Möchte man nicht dass letzte element sonder ein bestimmtes entfernen, kann `pop(index)` aufgerufen werden."
   ]
  },
  {
   "cell_type": "code",
   "execution_count": null,
   "id": "b5e98b25-a098-464d-82d9-90a92648c3e6",
   "metadata": {
    "deletable": false,
    "editable": false,
    "tags": []
   },
   "outputs": [],
   "source": [
    "einkaufsliste.pop(4)\n",
    "einkaufsliste"
   ]
  },
  {
   "cell_type": "markdown",
   "id": "0622dab2-b840-4521-8d96-cf1ed58cab9b",
   "metadata": {
    "deletable": false,
    "editable": false,
    "tags": []
   },
   "source": [
    "Das geht natürlich nur, falls der index in der Liste vorhanden ist."
   ]
  },
  {
   "cell_type": "code",
   "execution_count": null,
   "id": "3f848b8b-5c4d-4edb-834c-8871add76dd5",
   "metadata": {
    "deletable": false,
    "editable": false,
    "tags": []
   },
   "outputs": [],
   "source": [
    "einkaufsliste.pop(7)\n",
    "einkaufsliste"
   ]
  },
  {
   "cell_type": "markdown",
   "id": "1ce6bafe-19fe-46ca-893b-a72eaae8ba49",
   "metadata": {
    "deletable": false,
    "editable": false,
    "tags": []
   },
   "source": [
    "Schließlich lassen sich Listen sortieren:"
   ]
  },
  {
   "cell_type": "code",
   "execution_count": null,
   "id": "5b960e0e-37e0-4a53-ac6e-c091239b7c9f",
   "metadata": {},
   "outputs": [],
   "source": [
    "einkaufsliste.sort()\n",
    "einkaufsliste"
   ]
  },
  {
   "cell_type": "code",
   "execution_count": null,
   "id": "dfc2f596-dc16-45d7-95e8-ab7b8f08d970",
   "metadata": {},
   "outputs": [],
   "source": [
    "einkaufsliste.sort(reverse=True)\n",
    "einkaufsliste"
   ]
  },
  {
   "cell_type": "markdown",
   "id": "cf35efe4-37be-49ae-b02b-14a3391eea07",
   "metadata": {
    "deletable": false,
    "editable": false,
    "slideshow": {
     "slide_type": ""
    },
    "tags": []
   },
   "source": [
    "#### Aufgabe 4\n",
    "\n",
    "##### 1 Punkt\n",
    "\n",
    "Entfernen Sie alle tierischen Produkte von der Einkaufsliste und fügen Sie ein beliebiges weiteres Produkt hinzu. Geben sie anschließend die Länger der Liste aus."
   ]
  },
  {
   "cell_type": "code",
   "execution_count": null,
   "id": "0b101c2f-e183-4ea8-bbe7-8d544be704d9",
   "metadata": {
    "deletable": false,
    "editable": false,
    "slideshow": {
     "slide_type": ""
    },
    "tags": []
   },
   "outputs": [],
   "source": [
    "einkaufsliste = [\"Fisch\", \"Ei\", \"Fisch\", \"Ananas\", \"Bananen\"]"
   ]
  },
  {
   "cell_type": "code",
   "execution_count": null,
   "id": "041d74bd-20c6-4313-a673-86b975713521",
   "metadata": {
    "deletable": false,
    "editable": true,
    "slideshow": {
     "slide_type": ""
    },
    "tags": []
   },
   "outputs": [],
   "source": [
    "### hier steht ihr Code"
   ]
  },
  {
   "cell_type": "markdown",
   "id": "c1087868-4ea9-4b3c-8119-1f5992843bf3",
   "metadata": {
    "deletable": false,
    "editable": false,
    "tags": []
   },
   "source": [
    "### Listen von Listen von ...\n",
    "\n",
    "Häufig kommen auch verschachtelte Listen vor, im einfachsten Fall als Liste von Listen:"
   ]
  },
  {
   "cell_type": "code",
   "execution_count": null,
   "id": "1b6a3102-afb3-4b34-b2bb-d20eda63cd6f",
   "metadata": {
    "deletable": false,
    "editable": false,
    "tags": []
   },
   "outputs": [],
   "source": [
    "tictactoe = [[' ', ' ', ' '], ['X', 'O', ' '], ['X', ' ', 'O']]"
   ]
  },
  {
   "cell_type": "markdown",
   "id": "e5493d5e-4db3-4269-adbd-3ed64c7b4296",
   "metadata": {
    "deletable": false,
    "editable": false,
    "tags": []
   },
   "source": [
    "Um die Spalten und Zeilen besser zu erkennen, kann man ein Listenliteral auch so schreiben, dass die Struktur einfacher zu sehen ist:"
   ]
  },
  {
   "cell_type": "code",
   "execution_count": null,
   "id": "8342fa8c-6d6a-4523-8112-2ddaabd2f7d8",
   "metadata": {
    "deletable": false,
    "editable": false,
    "tags": []
   },
   "outputs": [],
   "source": [
    "tictactoe = [\n",
    "    [' ', ' ', ' '], \n",
    "    ['X', 'O', ' '], \n",
    "    ['X', ' ', 'O']\n",
    "]"
   ]
  },
  {
   "cell_type": "markdown",
   "id": "e1682325-a94d-4373-a4cb-e96d67fd8fed",
   "metadata": {
    "deletable": false,
    "editable": false,
    "tags": []
   },
   "source": [
    "Man sieht, dass es sich hier um ein Raster bzw. eine Tabelle handel. Der Zugriff auf die einzelnen Elemente erfolgt dann durch zwei Indizes - für die Zeile (erster Index) und die Spalte (zweiter Index):"
   ]
  },
  {
   "cell_type": "code",
   "execution_count": null,
   "id": "5f52ced7-e386-4b0a-bd6a-a2590ebbb348",
   "metadata": {
    "deletable": false,
    "editable": false,
    "tags": []
   },
   "outputs": [],
   "source": [
    "zeilen_index = 0\n",
    "spalten_index = 2\n",
    "\n",
    "tictactoe[zeilen_index][spalten_index] = 'X'\n",
    "tictactoe"
   ]
  },
  {
   "cell_type": "markdown",
   "id": "a3d20da5-aa5e-4332-a71f-73f6baaff0e0",
   "metadata": {
    "deletable": false,
    "editable": false,
    "tags": []
   },
   "source": [
    "Das Prinzip ließe sich auch weiter fortsetzen: Ein auf Spaltenebene definerte Liste würde einen Quader definieren usw. "
   ]
  },
  {
   "cell_type": "code",
   "execution_count": null,
   "id": "04cbadae-888c-4cb0-a1e8-6bed61a7a262",
   "metadata": {
    "deletable": false,
    "editable": false,
    "tags": []
   },
   "outputs": [],
   "source": [
    "print(tictactoe[0])\n",
    "print(tictactoe[1])\n",
    "print(tictactoe[2])"
   ]
  },
  {
   "cell_type": "markdown",
   "id": "87f49de4-7c81-4907-8365-a54cea622004",
   "metadata": {
    "deletable": false,
    "editable": false,
    "slideshow": {
     "slide_type": ""
    },
    "tags": []
   },
   "source": [
    "#### Aufgabe 5\n",
    "\n",
    "##### 1 Punkt\n",
    "\n",
    "Definieren sie folgendes Sudoku-Spiel als Liste von Listen und weisen sie es der Variable `spiel1` zu. Verwenden Sie eine `0` wo keine Ziffer auf dem Spielfeld gesetzt ist.\n",
    "\n",
    "<img src=\"img/Sudoku.png\" alt=\"drawing\" style=\"width:200px;\"/>    "
   ]
  },
  {
   "cell_type": "code",
   "execution_count": null,
   "id": "15c40b56-77f7-44e0-8326-0657ceb65fdd",
   "metadata": {
    "deletable": false,
    "editable": true,
    "slideshow": {
     "slide_type": ""
    },
    "tags": []
   },
   "outputs": [],
   "source": [
    "### hier steht ihr Code"
   ]
  },
  {
   "cell_type": "markdown",
   "id": "334cae03-e041-4b79-8efb-4193bc71dafd",
   "metadata": {
    "deletable": false,
    "editable": false,
    "tags": []
   },
   "source": [
    "### Dictionaries\n",
    "\n",
    "sind nicht nur Wörterbücher, sondern vielmehr eine Möglichkeit komplexe Datenstrukturen aus Paaren von Schlüsseln und Werten zu erzeugen. Der Schlüssel ist eine Zeichenkette, der Wert eine Variable oder ein Literal. Jedes Dictionary wird von geschweiften Klammern (`{` und `}`) umfasst, diese sind mit `AltGr` + `7` bzw. `0` auf der Tastatur zu erreichen."
   ]
  },
  {
   "cell_type": "code",
   "execution_count": null,
   "id": "a9b943bb-1e2d-44a2-8e37-a6ca5c88bb28",
   "metadata": {
    "deletable": false,
    "editable": false,
    "tags": []
   },
   "outputs": [],
   "source": [
    "person = {\n",
    "    \"name\": name,\n",
    "    \"alter\": alter,\n",
    "    \"größe\": größe,\n",
    "    \"hobbies\": ['Reisen', 'Lesen', 'Theater']\n",
    "}\n",
    "person"
   ]
  },
  {
   "cell_type": "markdown",
   "id": "7ed2ab75-2882-4d17-98d2-d1f0b13334c8",
   "metadata": {
    "deletable": false,
    "editable": false,
    "tags": []
   },
   "source": [
    "Der Wert einzelner Schlüssel kann ähnlich der Liste abgefragt werden, nur wird hier der Schlüssel statt des Index verwendet. "
   ]
  },
  {
   "cell_type": "code",
   "execution_count": null,
   "id": "d615a836-4db4-4862-904f-3a78bc08b400",
   "metadata": {
    "deletable": false,
    "editable": false,
    "tags": []
   },
   "outputs": [],
   "source": [
    "person[\"alter\"]"
   ]
  },
  {
   "cell_type": "markdown",
   "id": "338f63b0-80d4-42eb-9ff3-50a44db48003",
   "metadata": {
    "deletable": false,
    "editable": false,
    "tags": []
   },
   "source": [
    "Entsprechend können auch Werte veränder werden"
   ]
  },
  {
   "cell_type": "code",
   "execution_count": null,
   "id": "51e75551-54ee-40fc-938f-a540a2a95d3d",
   "metadata": {
    "deletable": false,
    "editable": false,
    "slideshow": {
     "slide_type": ""
    },
    "tags": []
   },
   "outputs": [],
   "source": [
    "person[\"name\"] = \"Hans Wurst\"\n",
    "person"
   ]
  },
  {
   "cell_type": "markdown",
   "id": "be77a519-3feb-4a0a-83b3-d6a7fd387817",
   "metadata": {
    "deletable": false,
    "editable": false,
    "tags": []
   },
   "source": [
    "Es lassen sich auch neue Schlüssel/Wertpaare hinzufügen "
   ]
  },
  {
   "cell_type": "code",
   "execution_count": null,
   "id": "591afbdf-6db1-4168-b7da-67b5ffc7ca07",
   "metadata": {
    "deletable": false,
    "editable": false,
    "slideshow": {
     "slide_type": ""
    },
    "tags": []
   },
   "outputs": [],
   "source": [
    "person[\"geburtsjahr\"] = 1982 \n",
    "person"
   ]
  },
  {
   "cell_type": "markdown",
   "id": "55dda0be-06cf-4ae5-a347-c718b59b4a90",
   "metadata": {
    "deletable": false,
    "editable": false,
    "tags": []
   },
   "source": [
    "Und ein Wert kann wiederum eine dictionary sein:"
   ]
  },
  {
   "cell_type": "code",
   "execution_count": null,
   "id": "42741967-6187-4ed8-98fa-c53da9742fcf",
   "metadata": {
    "deletable": false,
    "editable": false,
    "slideshow": {
     "slide_type": ""
    },
    "tags": []
   },
   "outputs": [],
   "source": [
    "adresse = {\n",
    "    \"StrasseNr\": \"Finkenweg 4\",\n",
    "    \"PLZ\": 64297,\n",
    "    \"Ort\": \"Darmstadt\"\n",
    "}\n",
    "\n",
    "person[\"adresse\"] = adresse \n",
    "\n",
    "person"
   ]
  },
  {
   "cell_type": "markdown",
   "id": "f19f173f-15af-4ebc-bc64-c9ca717ddcca",
   "metadata": {
    "deletable": false,
    "editable": false,
    "slideshow": {
     "slide_type": ""
    },
    "tags": []
   },
   "source": [
    "#### Aufgabe 6\n",
    "\n",
    "##### 1 Punkt\n",
    "\n",
    "Sie programmieren die Einkaufsliste 2.0\n",
    "- Definieren sie ein neues Dictionary und den Schlüsseln `laden`, `produkt`, `menge` und weisen  Sie es der Variable `p1` zu,\n",
    "- Weisen sie den Schlüsseln dabei sinnvolle Werte zu.\n",
    "- Geben Sie nur den Laden aus."
   ]
  },
  {
   "cell_type": "code",
   "execution_count": null,
   "id": "4945c585-d64f-4591-a32e-640aa564b56c",
   "metadata": {
    "deletable": false,
    "editable": true,
    "slideshow": {
     "slide_type": ""
    },
    "tags": []
   },
   "outputs": [],
   "source": [
    "### hier steht ihr Code"
   ]
  },
  {
   "cell_type": "markdown",
   "id": "aecd25ee-f522-4f32-b397-bbc6c22f8b77",
   "metadata": {
    "deletable": false,
    "editable": false,
    "slideshow": {
     "slide_type": ""
    },
    "tags": []
   },
   "source": [
    "## Exkurs: Bits & Bytes\n",
    "\n",
    "In diesem Exkurs untersuchen wir, wie die Werte von Variablen im Speicher unseres Rechners abgelegt werden. Alle Werte werden in **Bytes** dargestellt, die wiederum aus jeweils **8 Bit** bestehen. Ein Bit ist kleinste Informationseinheit eines Rechners und kann die Werte `0` und `1` annehemen. Jeder Wert eines der Datentypen die wir kennengelernt haben, ist also im Speicher aus mehreren Bytes zusammengesetzt. Welche Bedeutung diese Bits & Bytes haben, hängt vom jeweiligen Datentyp ab. Wir schauen uns einige Fälle an."
   ]
  },
  {
   "cell_type": "markdown",
   "id": "5cbefcaf-eff0-40ee-a6bd-254112ab9a2b",
   "metadata": {
    "deletable": false,
    "editable": false,
    "tags": []
   },
   "source": [
    "### Natürliche Zahlen"
   ]
  },
  {
   "cell_type": "code",
   "execution_count": null,
   "id": "788856bc-7696-452c-ac8d-4b06717999a3",
   "metadata": {
    "deletable": false,
    "editable": false,
    "slideshow": {
     "slide_type": ""
    },
    "tags": []
   },
   "outputs": [],
   "source": [
    "g = 1982"
   ]
  },
  {
   "cell_type": "markdown",
   "id": "a2aa85b8-7e69-4938-a93a-6ffc87706e56",
   "metadata": {
    "deletable": false,
    "editable": false,
    "slideshow": {
     "slide_type": ""
    },
    "tags": []
   },
   "source": [
    "**Dezimale** Schreibweise: Jede Stelle hat den Wert einer Potenz von 10\n",
    "- 1 er = 10<sup>0</sup>\n",
    "- 10 er = 10<sup>1</sup>\n",
    "- 100 er = 10<sup>2</sup>\n",
    "- 1000 er = 10<sup>3</sup>\n",
    "- ..."
   ]
  },
  {
   "cell_type": "code",
   "execution_count": null,
   "id": "32d09c19-a69c-43c8-be9e-7a41f006f4df",
   "metadata": {
    "deletable": false,
    "editable": false,
    "slideshow": {
     "slide_type": ""
    },
    "tags": []
   },
   "outputs": [],
   "source": [
    "g1 = 1 * (10 ** 3) \\\n",
    "   + 9 * (10 ** 2) \\\n",
    "   + 8 * (10 ** 1) \\\n",
    "   + 2 * (10 ** 0)   \n",
    "g1"
   ]
  },
  {
   "cell_type": "code",
   "execution_count": null,
   "id": "1c307ccf-2c22-4e8d-8a55-68336d63eb76",
   "metadata": {
    "deletable": false,
    "editable": false,
    "tags": []
   },
   "outputs": [],
   "source": [
    "print(f\"{g:016b}\")"
   ]
  },
  {
   "cell_type": "markdown",
   "id": "ecaa6013-d82c-443d-8984-cb9f318194ce",
   "metadata": {
    "deletable": false,
    "editable": false,
    "slideshow": {
     "slide_type": ""
    },
    "tags": []
   },
   "source": [
    "**Binäre** Schreibweise: Jede Stelle hat den Wert einer Potenz von 2. \n",
    "- 1 er = 2<sup>0</sup>\n",
    "- 2 er = 2<sup>1</sup>\n",
    "- 4 er = 2<sup>2</sup>\n",
    "- 8 er = 2<sup>3</sup>\n",
    "- ..."
   ]
  },
  {
   "cell_type": "code",
   "execution_count": null,
   "id": "1b887be1-4d73-473d-953c-1841b0d01156",
   "metadata": {
    "deletable": false,
    "editable": false,
    "tags": []
   },
   "outputs": [],
   "source": [
    "g2 = 0 * (2 ** 15) \\\n",
    "   + 0 * (2 ** 14) \\\n",
    "   + 0 * (2 ** 13) \\\n",
    "   + 0 * (2 ** 12) \\\n",
    "   + 0 * (2 ** 11) \\\n",
    "   + 1 * (2 ** 10) \\\n",
    "   + 1 * (2 ** 9) \\\n",
    "   + 1 * (2 ** 8) \\\n",
    "   + 1 * (2 ** 7) \\\n",
    "   + 0 * (2 ** 6) \\\n",
    "   + 1 * (2 ** 5) \\\n",
    "   + 1 * (2 ** 4) \\\n",
    "   + 1 * (2 ** 3) \\\n",
    "   + 1 * (2 ** 2) \\\n",
    "   + 1 * (2 ** 1) \\\n",
    "   + 0 * (2 ** 0)  \n",
    "g2"
   ]
  },
  {
   "cell_type": "markdown",
   "id": "9fcfd83f-5d6e-45ad-bcd7-07215c2c9164",
   "metadata": {
    "deletable": false,
    "editable": false,
    "tags": []
   },
   "source": [
    "Weil die binäre Schreibweise sehr mühselig und unübersichtlich ist, weicht man oft auf die **Hexadezimale Schreibweise** aus: Jede Stelle hat den Wert einer Potenz von 16. Weil bei 16 Werten pro Stelle die Ziffern 0-9 nicht ausreichen, verwendet man für 10 = A, 11 = B, ... , 15 = F"
   ]
  },
  {
   "cell_type": "code",
   "execution_count": null,
   "id": "a7b1dc5e-7d8c-4c12-bcdc-79824b52ca74",
   "metadata": {
    "deletable": false,
    "editable": false,
    "tags": []
   },
   "outputs": [],
   "source": [
    "print(f\"{g:04X}\")"
   ]
  },
  {
   "cell_type": "code",
   "execution_count": null,
   "id": "b7514873-8e75-451c-9b74-1da2e9f019bf",
   "metadata": {
    "deletable": false,
    "editable": false,
    "tags": []
   },
   "outputs": [],
   "source": [
    "g3 = 0 * (16 ** 3) \\\n",
    "   + 7 * (16 ** 2) \\\n",
    "   + 11 * (16 ** 1) \\\n",
    "   + 14 * (16 ** 0) \n",
    "g3"
   ]
  },
  {
   "cell_type": "markdown",
   "id": "8b69c626-f0b8-4435-87f3-f1dc16f852d9",
   "metadata": {
    "deletable": false,
    "editable": false,
    "tags": []
   },
   "source": [
    "Dabei fasst jeder wert 4 Bit zusammen und kann deswegen ganz einfach (oft nur gedanklich) in die binäre Schreibweise übersetzt werden.\n",
    "- 0      = 0000\n",
    "- 7      = 0111\n",
    "- B = 11 = 1011\n",
    "- E = 14 = 1110\n",
    "Enstrepchend ist 07BE = 0000011110111110"
   ]
  },
  {
   "cell_type": "markdown",
   "id": "b6776f5c-297f-4163-aef1-38a9e06f3184",
   "metadata": {
    "deletable": false,
    "editable": false,
    "tags": []
   },
   "source": [
    "### Zeichenketten"
   ]
  },
  {
   "cell_type": "code",
   "execution_count": null,
   "id": "17de84b7-f101-4b37-903a-465c5bfb42e3",
   "metadata": {
    "deletable": false,
    "editable": false,
    "tags": []
   },
   "outputs": [],
   "source": [
    "zeichenkette = 'Hallo'\n",
    "zeichenliste = list(bytes(zeichenkette, 'utf-8'))\n",
    "zeichenliste"
   ]
  },
  {
   "cell_type": "code",
   "execution_count": null,
   "id": "37116153-d07a-4921-8576-d7501bb97820",
   "metadata": {
    "deletable": false,
    "editable": false,
    "tags": []
   },
   "outputs": [],
   "source": [
    "print(f\"{zeichenliste[3]:02X}\")"
   ]
  },
  {
   "cell_type": "markdown",
   "id": "02d34b6c-bcf4-477b-9d61-45afa1dafa2d",
   "metadata": {
    "deletable": false,
    "editable": false,
    "tags": []
   },
   "source": [
    "### Nicht-Ganzzahlen\n",
    "\n",
    "Die Darstellung von rationalen, reellen und anderen nicht-ganzen Zahlen ist realtiv komplex (sog. Fließkommazahlen), wir gehen an dieser Stelle nicht im Detail darauf ein. Allerdings sollten einige Eigenschaften bewusst werden.\n",
    "- Die Länge der binären Darstellung ist auch hier beschränkt, meist auf 4 (\"float\") oder 8 (\"double\") Bytes beschränkt\n",
    "- Die Zahlen können im Vergleich zur darstellung von ganzen Zahlen (int oder long) sehr viel größer / kleiner werden\n",
    "- Die Genauigkeit ist beschränkt: Zwischen 0 und 1 liegen unendlich viele Zahlen, von denen sich aber nor ein Bruchteil darstellen lässt.\n",
    "- Die Beschränkung der Genauigkeit führt bei manchen arithmetischen Operationen dazu, dass keine (dezimal) geraden Zahlen herauskommen obwohl sie das sollten."
   ]
  },
  {
   "cell_type": "code",
   "execution_count": null,
   "id": "eae83585-470c-4f64-9313-d0bf26af5120",
   "metadata": {
    "deletable": false,
    "editable": false,
    "tags": []
   },
   "outputs": [],
   "source": [
    "k = 1.0 / 10\n",
    "l = 1.0 / 8"
   ]
  },
  {
   "cell_type": "code",
   "execution_count": null,
   "id": "6083e001-9274-4805-a2b6-ca45c14d1077",
   "metadata": {
    "deletable": false,
    "editable": false,
    "tags": []
   },
   "outputs": [],
   "source": [
    "print(k.hex())\n",
    "print(l.hex())"
   ]
  },
  {
   "cell_type": "code",
   "execution_count": null,
   "id": "4ef5a7f2-97bd-42af-8456-016ecbaf5d7a",
   "metadata": {
    "deletable": false,
    "editable": false,
    "tags": []
   },
   "outputs": [],
   "source": [
    "print(f\"{k:0.30f}\")\n",
    "print(f\"{l:0.30f}\")"
   ]
  },
  {
   "cell_type": "markdown",
   "id": "7ccdadb1-8616-4035-bfcb-f9d9c6483a25",
   "metadata": {
    "deletable": false,
    "editable": false,
    "tags": []
   },
   "source": [
    "### Physikalischer Speicherort von komplexen Datentypen\n",
    "\n",
    "Variablen sind veränderlich und ihr Name bezeichnet menschenlesbar den Ort an dem ihr aktueller Wert gespeichert ist."
   ]
  },
  {
   "cell_type": "code",
   "execution_count": null,
   "id": "9e250382-5707-4cfd-a443-b7002436b434",
   "metadata": {
    "deletable": false,
    "editable": false,
    "tags": []
   },
   "outputs": [],
   "source": [
    "#Wir legen zwei Listen mit gleichem inhalt an\n",
    "liste_1 = [1, 2, 3] \n",
    "liste_2 = [1, 2, 3] \n",
    "liste_1 == liste_2"
   ]
  },
  {
   "cell_type": "markdown",
   "id": "bba4566a-1d1f-4475-9c5a-d60ba3178628",
   "metadata": {
    "deletable": false,
    "editable": false,
    "tags": []
   },
   "source": [
    "Sie sind physikalisch aber nicht am selben Ort gespeichert. Den Speicherort finden wir mit `id()`, es ist eine Zahl, welche den Ort im Hauptspeicher des Rechners beschreibt."
   ]
  },
  {
   "cell_type": "code",
   "execution_count": null,
   "id": "b3a0bb50-6190-44d4-b412-d36a5cb69a8f",
   "metadata": {
    "deletable": false,
    "editable": false,
    "tags": []
   },
   "outputs": [],
   "source": [
    "id(liste_1)"
   ]
  },
  {
   "cell_type": "code",
   "execution_count": null,
   "id": "06254358-9452-4a0a-8ea2-c2c904f65c72",
   "metadata": {
    "deletable": false,
    "editable": false,
    "tags": []
   },
   "outputs": [],
   "source": [
    "id(liste_2)"
   ]
  },
  {
   "cell_type": "markdown",
   "id": "b6e55a73-5e86-4767-8df2-01b949ae6e4c",
   "metadata": {
    "deletable": false,
    "editable": false,
    "tags": []
   },
   "source": [
    "Die Speicherorte sind unterschiedlich, die physikalische Gleichheit kann mit dem Operator `is` geprüft werden."
   ]
  },
  {
   "cell_type": "code",
   "execution_count": null,
   "id": "d6da7704-451e-4d87-a0a1-abaf3033ea69",
   "metadata": {
    "deletable": false,
    "editable": false,
    "tags": []
   },
   "outputs": [],
   "source": [
    "liste_1 is liste_2"
   ]
  },
  {
   "cell_type": "code",
   "execution_count": null,
   "id": "40ffbd11-0f47-40f4-a196-6bee13ed1e39",
   "metadata": {},
   "outputs": [],
   "source": []
  }
 ],
 "metadata": {
  "kernelspec": {
   "display_name": "Python 3 (ipykernel)",
   "language": "python",
   "name": "python3"
  },
  "language_info": {
   "codemirror_mode": {
    "name": "ipython",
    "version": 3
   },
   "file_extension": ".py",
   "mimetype": "text/x-python",
   "name": "python",
   "nbconvert_exporter": "python",
   "pygments_lexer": "ipython3",
   "version": "3.10.10"
  }
 },
 "nbformat": 4,
 "nbformat_minor": 5
}
