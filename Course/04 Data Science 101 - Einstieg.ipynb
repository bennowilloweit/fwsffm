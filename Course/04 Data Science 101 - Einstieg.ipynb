{
 "cells": [
  {
   "cell_type": "markdown",
   "id": "bd92ccc6-6c68-465d-8827-e03579f5c4b8",
   "metadata": {},
   "source": [
    "# Einführung Maschinelles Lernen"
   ]
  },
  {
   "cell_type": "markdown",
   "id": "79d696b2-6e6f-4a78-a22b-7bba70fd0deb",
   "metadata": {},
   "source": [
    "## Einordnung gängiger Begriffe\n",
    "\n",
    "<img src=\"img/04DS00.png\" alt=\"drawing\" style=\"width:800px;\"/>    "
   ]
  },
  {
   "cell_type": "markdown",
   "id": "cd352464-080e-4af9-bc60-c87ed36aeb41",
   "metadata": {},
   "source": [
    "## Der Kern von KI - Wie lernt eine Maschine?\n",
    "\n",
    "<img src=\"img/04DS01.png\" alt=\"drawing\" style=\"width:800px;\"/>  "
   ]
  },
  {
   "cell_type": "markdown",
   "id": "3873aa25-843c-4d15-af61-9a2cf7fae842",
   "metadata": {},
   "source": [
    "## Der Eisstand\n",
    "\n",
    "Wir stellen uns vor, wir betreiben einen Eisstand und möchten beim Blick auf den Wetterbericht für den morgigen Tag wissen, wie viel Eis wir verkaufen werden. Dazu ziehen wir die Daten unserer Eisverkäufe in der Vergangenheit heran."
   ]
  },
  {
   "cell_type": "code",
   "execution_count": null,
   "id": "9c40f2f8-eb9d-4180-9da6-cb967f366968",
   "metadata": {},
   "outputs": [],
   "source": [
    "import pandas as pd\n",
    "import matplotlib.pyplot as plt\n",
    "import numpy as np\n",
    "import statistics"
   ]
  },
  {
   "cell_type": "code",
   "execution_count": null,
   "id": "4d63ff9b-719c-472b-9fde-e2e2d9c6b5c3",
   "metadata": {},
   "outputs": [],
   "source": [
    "data = [\n",
    "    [5, 1],\n",
    "    [7, 6],\n",
    "    [10, 7],\n",
    "    [12, 9],\n",
    "    [18, 12],\n",
    "    [25, 30],\n",
    "    [35, 59]]\n",
    "\n",
    "df = pd.DataFrame(data, columns=[\"Temperatur\", \"Eis\"])\n",
    "df.head(10)"
   ]
  },
  {
   "cell_type": "code",
   "execution_count": null,
   "id": "9c3c951c-1efa-4a08-979e-b92baba16d0b",
   "metadata": {
    "tags": []
   },
   "outputs": [],
   "source": [
    "plt.scatter(df[\"Temperatur\"], df[\"Eis\"])\n",
    "plt.xlabel(\"Temperatur\")\n",
    "plt.ylabel(\"Eis\")\n",
    "plt.show()"
   ]
  },
  {
   "cell_type": "markdown",
   "id": "eba2d845-c0ed-4d78-a0b2-ce9d9c91e124",
   "metadata": {},
   "source": [
    "#### Aufgabe 1:\n",
    "\n",
    "##### 1 Punkt\n",
    "    \n",
    "Schauen Sie auf die vorhandenen Daten, was würden Sie schätzen wieviel Eis Sie verkaufen wenn der Wetterbericht für morgen\n",
    "- Eine Temperatur von 20°\n",
    "- Eine Temperatur von 30°\n",
    "\n",
    "vorhersagt?\n",
    "\n",
    "Verwenden sie die Variablen `p20` und `p30` für die jeweilige Temperatur."
   ]
  },
  {
   "cell_type": "code",
   "execution_count": null,
   "id": "97431a03-068f-43a3-b107-9320a3a3c907",
   "metadata": {},
   "outputs": [],
   "source": [
    "#### Hier steht Ihr Code\n",
    "p20 = 15\n",
    "p30 = 45"
   ]
  },
  {
   "cell_type": "code",
   "execution_count": null,
   "id": "92f61d4f-ecfb-457b-947e-a5f579b7c53f",
   "metadata": {
    "tags": []
   },
   "outputs": [],
   "source": [
    "plt.scatter(df[\"Temperatur\"], df[\"Eis\"])\n",
    "plt.scatter([20, 30], [p20, p30])\n",
    "plt.xlabel(\"Temperatur\")\n",
    "plt.ylabel(\"Eis\")\n",
    "plt.show()"
   ]
  },
  {
   "cell_type": "markdown",
   "id": "e80a729e-1100-41ff-babf-ef36b05f23fe",
   "metadata": {},
   "source": [
    "### Ein erstes Modell\n",
    "\n",
    "Mit Hilfe eines Modells wollen wir die Vorhersage generalisieren. Eines der einfachsten denkbaren Modelle ist die Gerade. Sie kann uns den Eisverkauf mit Hilfe von zwei Modellparametern vorhersagen:\n",
    "- w - Die Steigung der Geraden\n",
    "- b - der Y-Achsenabschnitt\n",
    "\n",
    "Durch diese beiden Modellparameter kann für eine gegebene Temperatur (auch unabhängige Variable genannt) der Eisverkauf (auch abhängige Variable genannt) vorhergesagt werden  \n",
    "\n",
    "Das Modell hat somit die Form:\n",
    "- vorhersage_eis = w * temperatur + b\n",
    "\n",
    "Wir führen eine Funktion `mache_vorhersage()` ein, die uns die Vorhersagen für beliebige unabhängige Variablen (hier: Temperaturen) `uvar` sowie die Parameter `w` und `b` liefert:"
   ]
  },
  {
   "cell_type": "code",
   "execution_count": null,
   "id": "30e6c7a3-0752-4540-b8f8-83fd53640e11",
   "metadata": {},
   "outputs": [],
   "source": [
    "def mache_vorhersage(werte, w, b):\n",
    "    if type(werte) is not list: \n",
    "        werte = [werte]\n",
    "    vorhersagen = []\n",
    "    for wert in werte:\n",
    "        vorhersage = w * wert + b\n",
    "        vorhersagen.append(vorhersage)\n",
    "    return vorhersagen"
   ]
  },
  {
   "cell_type": "markdown",
   "id": "6af4a2ec-aca6-4388-b156-4a74046fdff7",
   "metadata": {},
   "source": [
    "#### Aufgabe 2:\n",
    "\n",
    "##### 1 Punkt\n",
    "\n",
    "- Schätzen Sie die Modellparameter `w_geschätzt` und `b_geschätzt`\n",
    "- Vergleichen Sie das Ergebnis mit Iherer Schätzung aus Aufgabe 1"
   ]
  },
  {
   "cell_type": "code",
   "execution_count": null,
   "id": "6b75dc8d-a925-4441-ab38-752ef5174fe4",
   "metadata": {},
   "outputs": [],
   "source": [
    "#### Hier steht Ihr Code\n",
    "w_geschätzt = \n",
    "b_geschätzt = "
   ]
  },
  {
   "cell_type": "code",
   "execution_count": null,
   "id": "a078366d-d6f6-47af-9163-2fb26bf860a5",
   "metadata": {},
   "outputs": [],
   "source": [
    "print(mache_vorhersage([20, 30], w_geschätzt, b_geschätzt))\n",
    "print([p20, p30])"
   ]
  },
  {
   "cell_type": "markdown",
   "id": "fd364b40-584f-4c88-bc2d-0775a4df2a5b",
   "metadata": {},
   "source": [
    "Wir sagen jetzt alle Werte vorher und vergleichen die Vorhersagen des Modells mit den Tatsächlichen Werten"
   ]
  },
  {
   "cell_type": "code",
   "execution_count": null,
   "id": "04ea00b3-f018-4f7a-8445-923052e0def9",
   "metadata": {
    "tags": []
   },
   "outputs": [],
   "source": [
    "df[\"Eis_Vorhersage\"] = mache_vorhersage(df[\"Temperatur\"].to_list(), w_geschätzt, b_geschätzt)\n",
    "df.head(10)"
   ]
  },
  {
   "cell_type": "code",
   "execution_count": null,
   "id": "18e9a09f-422d-4bfd-8939-b7b8bf5bce05",
   "metadata": {
    "tags": []
   },
   "outputs": [],
   "source": [
    "plt.scatter(df[\"Temperatur\"], df[\"Eis\"])\n",
    "plt.scatter([20, 30], [20, 40])\n",
    "plt.plot([0, 40], [mache_vorhersage(0, w_geschätzt, b_geschätzt), mache_vorhersage(40, w_geschätzt, b_geschätzt)], color='red') \n",
    "plt.xlabel(\"Temperatur\")\n",
    "plt.ylabel(\"Eis\")\n",
    "plt.show()"
   ]
  },
  {
   "cell_type": "markdown",
   "id": "ffa68675-7b29-45dd-879f-3fdc987d8134",
   "metadata": {},
   "source": [
    "## Die Qualität des Modells\n",
    "Bevor wir die Modellparameter mit Hilfe der Maschine suchen (das Modell \"trainieren\"), müssen wir die Qualität des Modells bewerten können.\n",
    "Es gibte eine Vielzahl von Methoden um die Qualität zu bewerten, abhängig von der Problemstellung.\n",
    "In unserem Fall ziehen wir den durchschnittlichen Abstand der tatsächlichen Werte von den Vorhersagewerten heran. (Root Mean Squared Error, RMSE)"
   ]
  },
  {
   "cell_type": "code",
   "execution_count": null,
   "id": "411f9ee3-34cd-4cd5-9cfd-52594b6863fc",
   "metadata": {},
   "outputs": [],
   "source": [
    "def berechne_fehler(ist, vorhersage):\n",
    "    if type(ist) is not list: ist = [ist]\n",
    "    if type(vorhersage) is not list: vorhersage = [vorhersage]\n",
    "    fehler_liste = []\n",
    "    for ist_wert, vorhersage_wert in zip(ist, vorhersage):\n",
    "        fehler = (ist_wert - vorhersage_wert) * (ist_wert - vorhersage_wert)\n",
    "        fehler_liste.append(fehler)\n",
    "    return fehler_liste"
   ]
  },
  {
   "cell_type": "code",
   "execution_count": null,
   "id": "9fbacdd9-cd04-45cb-9e6c-d89efccf4170",
   "metadata": {},
   "outputs": [],
   "source": [
    "df[\"Fehler\"] = berechne_fehler(df[\"Eis\"].to_list(), df[\"Eis_Vorhersage\"].to_list())\n",
    "df.head(10)"
   ]
  },
  {
   "cell_type": "code",
   "execution_count": null,
   "id": "61c19518-0d7f-4db3-a495-4de3efa3c210",
   "metadata": {},
   "outputs": [],
   "source": [
    "statistics.mean(df[\"Fehler\"].to_list())"
   ]
  },
  {
   "cell_type": "markdown",
   "id": "94eaae5c-d26f-459e-bc3e-e9897212ef21",
   "metadata": {},
   "source": [
    "## Wie kommen wir da runter?\n",
    "\n",
    "<img src=\"img/abstieg.png\" alt=\"drawing\" style=\"width:800px;\"/>  "
   ]
  },
  {
   "cell_type": "markdown",
   "id": "f95543de-1298-4b1e-9dd6-32484bd2d79e",
   "metadata": {},
   "source": [
    "## Die Maschine lernt\n",
    "Um die Parameter maschinell zu suchen, wenden wir ein Verfahren an, bei dem wir von einem (beliebigen) Startwert für die Parameter `w`und `b` schrittweise eine immer bessere Schätzung der Parameter entwickeln. Damit wir wissen in welche Richtung wir die Schätzwerte verändern müssen, definieren wir zunächst eine Hilfsfunktion, die uns die Richtung `dw` und `db` für die beiden Parameter zurückgibt. Zur Bestimmung der Richtung benötigt sie die unabhängigen Variablen (bei uns: die Temperatur) sowie die Ist- und Vorhersagewerte für die abhängige Variable.  "
   ]
  },
  {
   "cell_type": "code",
   "execution_count": null,
   "id": "412cccbe-0593-4809-862a-ada92f6ca349",
   "metadata": {},
   "outputs": [],
   "source": [
    "def richtung(uvar, ist, vorhersage):\n",
    "    n = float(len(ist))\n",
    "    X = np.asarray(uvar)\n",
    "    Y = np.asarray(ist)\n",
    "    Y_pred = np.asarray(vorhersage)\n",
    "    dw = (-2/n) * sum(X * (Y - Y_pred))\n",
    "    db = (-2/n) * sum(Y - Y_pred)\n",
    "    return dw, db"
   ]
  },
  {
   "cell_type": "markdown",
   "id": "6c6f0ea1-b17d-4520-b101-86385b510fe9",
   "metadata": {
    "tags": []
   },
   "source": [
    "Jetzt definieren wir die eigentliche Funktion zur Suche der Parameter `w` und `b`. Darin verändern wir die Parameter über eine vorgegebene Anzahl von Schritten entlang der Richtung die uns die Funktion oben vorgibt. Wir berechnen auch bei jedem Schritt den Fehler."
   ]
  },
  {
   "cell_type": "code",
   "execution_count": null,
   "id": "5e387baf-8bba-46c7-aaf9-57901e312ffe",
   "metadata": {},
   "outputs": [],
   "source": [
    "def suche(uvar, ist, lernrate, schritte):\n",
    "    w = 0\n",
    "    b = 0\n",
    "    for i in range(schritte): \n",
    "        vorhersage = mache_vorhersage(uvar, w, b)\n",
    "        fehler = berechne_fehler(ist, vorhersage)\n",
    "        print(f\"{i:03d} w = {w:.4f} b = {b:.4f} fehler = {statistics.mean(fehler)}\")\n",
    "        dw, db = richtung(uvar, ist, vorhersage)\n",
    "        w = w - lernrate * dw\n",
    "        b = b - lernrate * db      \n",
    "    return w, b"
   ]
  },
  {
   "cell_type": "markdown",
   "id": "d82727d1-7a00-4bff-a669-16120ac1a1b1",
   "metadata": {},
   "source": [
    "#### Aufgabe 3:\n",
    "\n",
    "##### 1 Punkt\n",
    "\n",
    "Testen sie unterschiedliche Werte für `schritte` und `lernrate` und bestimmen sie die Parameter `w_gesucht` und `b_gesucht` mittels der Funktion `suche()`. Vergleichen Sie die Ergebnisse mit der ursprünglichen Schätzung. "
   ]
  },
  {
   "cell_type": "code",
   "execution_count": null,
   "id": "4bf51844-5bd4-43f4-9a4e-5e275391c41d",
   "metadata": {},
   "outputs": [],
   "source": [
    "lernrate = 0.002\n",
    "schritte = 1000 #, 10000 "
   ]
  },
  {
   "cell_type": "code",
   "execution_count": null,
   "id": "679e43f3-c874-416e-93ca-0fcdb1cadecf",
   "metadata": {},
   "outputs": [],
   "source": [
    "w_gesucht, b_gesucht = suche(df[\"Temperatur\"].to_list(), df[\"Eis\"].to_list(), lernrate, schritte)\n",
    "print(f\"w = {w_gesucht}, b = {b_gesucht}\")"
   ]
  },
  {
   "cell_type": "code",
   "execution_count": null,
   "id": "5ba9a984-5208-48b7-a5ac-5b20525dc703",
   "metadata": {},
   "outputs": [],
   "source": [
    "df[\"Eis_Vorhersage_ML\"] = mache_vorhersage(df[\"Temperatur\"].to_list(), w_gesucht, b_gesucht)\n",
    "df[\"Fehler_ML\"] = berechne_fehler(df[\"Eis\"].to_list(), df[\"Eis_Vorhersage_ML\"].to_list())\n",
    "df.head(10)"
   ]
  },
  {
   "cell_type": "code",
   "execution_count": null,
   "id": "0ca05c77-45cb-40fc-b703-ed6ee984e2ad",
   "metadata": {},
   "outputs": [],
   "source": [
    "print(statistics.mean(df[\"Fehler_ML\"].to_list()))\n",
    "print(statistics.mean(df[\"Fehler\"].to_list()))"
   ]
  },
  {
   "cell_type": "code",
   "execution_count": null,
   "id": "6a91d75c-cb2c-48bc-89a1-ebd079027126",
   "metadata": {},
   "outputs": [],
   "source": [
    "plt.scatter(df[\"Temperatur\"], df[\"Eis\"])\n",
    "plt.plot([0, 40], [mache_vorhersage(0, w_geschätzt, b_geschätzt), mache_vorhersage(40, w_geschätzt, b_geschätzt)], color='red') \n",
    "plt.plot([0, 40], [mache_vorhersage(0, w_gesucht, b_gesucht), mache_vorhersage(40, w_gesucht, b_gesucht)], color='purple') \n",
    "plt.xlabel(\"Temperatur\")\n",
    "plt.ylabel(\"Eis\")\n",
    "plt.show()"
   ]
  },
  {
   "cell_type": "markdown",
   "id": "0d2ded3d-132d-4e25-a50b-98ca3bf1f894",
   "metadata": {},
   "source": [
    "## Beobachtungen\n",
    "\n",
    "- Das Modell ist immer limitiert, es ist eine mehr oder weniger starke Vereinfachung der Realität.\n",
    "- Der Grad der Fähigkeit aus den Trainingsdaten zu lernen bemisst sich genauso an der Anzahl der Modellparameter und der Konfiguration der Hyperparameter wie der Aufwand des Trainings.\n",
    "- Die Eingabedaten sind immer Vergangenheit. Die Antwort eines ML-Modells (egal wie komplex sie ist!) basiert immer auf vergangenen Erfahrungswerten (= Daten).\n",
    "- Der Fähigkeit des Modells die Realität abzubilden und damit gute Vorhersagen zu treffen bemisst sich im wesentlich an der:\n",
    "    - Auswahl des Modells (Hat das gewählte Modell prinzipliell die Fähigkeit das Problem zu lösen?)\n",
    "    - Auswahl der Kostenfunktion (Optimieren wir gegen die Richtige Kostenfunktion?)\n",
    "    - Auswahl der Daten (Stimmen Qualität, Quantität, Stichprobe?)"
   ]
  },
  {
   "cell_type": "code",
   "execution_count": null,
   "id": "1064fada-2463-4782-ae0c-63f5962e1d81",
   "metadata": {},
   "outputs": [],
   "source": []
  },
  {
   "cell_type": "code",
   "execution_count": null,
   "id": "6507014e-3e07-4a7e-bd02-2aa1599fc656",
   "metadata": {},
   "outputs": [],
   "source": []
  },
  {
   "cell_type": "code",
   "execution_count": null,
   "id": "20f31770-5d54-431a-8eec-a3d700c41d87",
   "metadata": {},
   "outputs": [],
   "source": []
  }
 ],
 "metadata": {
  "kernelspec": {
   "display_name": "Python 3 (ipykernel)",
   "language": "python",
   "name": "python3"
  },
  "language_info": {
   "codemirror_mode": {
    "name": "ipython",
    "version": 3
   },
   "file_extension": ".py",
   "mimetype": "text/x-python",
   "name": "python",
   "nbconvert_exporter": "python",
   "pygments_lexer": "ipython3",
   "version": "3.10.10"
  }
 },
 "nbformat": 4,
 "nbformat_minor": 5
}
