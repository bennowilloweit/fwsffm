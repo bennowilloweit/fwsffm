{
 "cells": [
  {
   "cell_type": "markdown",
   "id": "9a159d7d-5a85-4ea1-9f65-4d2a1fe31931",
   "metadata": {},
   "source": [
    "# Algorithmen\n",
    "\n",
    "In diesem Kapitel kommen wir zum zentralen Zweck jeder Programmiersprache: Der Definition von Algorithmen (eindeutige, Schritt-für-Schritt Anleitung zur Lösung von gleichartigen Problemen). Nachdem wir im letzten Kapitel verschiedene Datentypen von Variablen kennengelernt haben, beschäftigen wir uns in dieser Einheit mit Kontrollstrukturen zum (wiederholten) Manipulieren der Variablen. "
   ]
  },
  {
   "cell_type": "markdown",
   "id": "602cc5da-ffd4-4136-a5cc-9170abdaea34",
   "metadata": {},
   "source": [
    "## Schleifen\n",
    "\n",
    "Schleifen dienen dazu, bestimmte Operationen wiederholt auszuführen. Bevor wir uns die verschiedenen Schleifentypen genauer anschauen, erzeugen wir eine Einkaufsliste, ähnlich dem Ergebnis in Aufgabe 4 des ersten Arbeitsblattes."
   ]
  },
  {
   "cell_type": "code",
   "execution_count": null,
   "id": "c7343052-ae39-427a-9f5c-26798689e204",
   "metadata": {},
   "outputs": [],
   "source": [
    "einkaufsliste = [\n",
    "    {\"laden\": \"Rewe\", \"produkt\": \"Bananen\", \"menge\": 2},\n",
    "    {\"laden\": \"Rewe\", \"produkt\": \"Äpfel\", \"menge\": 6},\n",
    "    {\"laden\": \"Wochenmarkt\", \"produkt\": \"Fisch\", \"menge\": 1}\n",
    "]\n",
    "einkaufsliste"
   ]
  },
  {
   "cell_type": "markdown",
   "id": "522f7950-ebfc-433a-b3d4-23e925e782af",
   "metadata": {},
   "source": [
    "## Die For-Schleife\n",
    "\n",
    "- dient insbesondere dazu, über die Elemente einer Liste zu iterieren und dabei wiederholt dieselben Operationen auf jedem einzelnen Element der Liste auszuführen.\n",
    "- Die Syntax: Zunächst das Schlüsselwort `for` gefolgt von einem beliebigen Variablennamen, gefolgt vom Schlüsselwort `in`, danach der Variablenname der Liste und schließlich ein Doppelpunkt `:` \n",
    "- **Man beachte, dass alle Operationen, die bei jedem Schleifendurchlauf abgearbeitet werden, im Code eingerückt sind.** Die Einrückung wird mit der Tabulator-Taste erzeugt, sie isz meist oben links auf der Tastatur neben dem Q zu finden."
   ]
  },
  {
   "cell_type": "code",
   "execution_count": null,
   "id": "4e533fd6-e941-4736-8d71-8c6283c6770a",
   "metadata": {},
   "outputs": [],
   "source": [
    "gesamtmenge = 0\n",
    "\n",
    "for eintrag in einkaufsliste:\n",
    "    gesamtmenge = gesamtmenge + eintrag[\"menge\"]\n",
    "    print(f\"{eintrag['produkt']} -  {eintrag['menge']}\")\n",
    "    \n",
    "print(f\"Gesamtmenge: {gesamtmenge}\")"
   ]
  },
  {
   "cell_type": "markdown",
   "id": "ee50d43b-76e6-4193-a8be-75ae60cc9239",
   "metadata": {},
   "source": [
    "Benötigt man auch den Index des Listenelements, kann man mit Hilfe von `enumerate()` in einer for Schleife auch die entsprechenden Paare von Index und Wert verarbeiten:"
   ]
  },
  {
   "cell_type": "code",
   "execution_count": null,
   "id": "2c89926a-d449-4c53-a698-4fd50e1c915f",
   "metadata": {},
   "outputs": [],
   "source": [
    "for index, eintrag in enumerate(einkaufsliste):\n",
    "    print(f\"{index} -  {eintrag['produkt']}\")"
   ]
  },
  {
   "cell_type": "markdown",
   "id": "f8687452-cb82-4ce9-9751-c06c75dedb7f",
   "metadata": {
    "tags": []
   },
   "source": [
    "Das ganze funktioniert auch mit den Einträgen von Dictionaries, hier bekommt man allerdings nicht nur einen Eintrag, sondern Paare von Schlüsseln und Werten:"
   ]
  },
  {
   "cell_type": "code",
   "execution_count": null,
   "id": "9bd28d01-825f-44f9-9e58-0cd08ad8ecf8",
   "metadata": {},
   "outputs": [],
   "source": [
    "for index, (schlüssel, wert) in enumerate(einkaufsliste[0].items()):\n",
    "    print(f\"{index} index {schlüssel} :  {wert}\")"
   ]
  },
  {
   "cell_type": "markdown",
   "id": "56569fb5-81f8-47d0-9696-37fc38cb6843",
   "metadata": {},
   "source": [
    "Im letzten Kapitel haben wir Listen sortiert, for-schleifen sind auch nützlich um Listen zu filtern. Dabei schreibt man die for-Schleife in verkürzt und in eckige Klammern `[]` : "
   ]
  },
  {
   "cell_type": "code",
   "execution_count": null,
   "id": "af77f0bd-4250-42bb-9cdf-593403600ff6",
   "metadata": {},
   "outputs": [],
   "source": [
    "[eintrag for eintrag in einkaufsliste if eintrag[\"laden\"] == \"Wochenmarkt\"]"
   ]
  },
  {
   "cell_type": "markdown",
   "id": "67f06f74-334e-46c8-ba30-900d8672a271",
   "metadata": {},
   "source": [
    "#### Aufgabe 1\n",
    "Schreiben sie eine Schleife, die für alle Einträge in der Einkaufsliste den Index, den Markt, das Produkt sowie die Menge ausgibt. Am Ende soll auch der Gesamtpreis ausgegeben werden."
   ]
  },
  {
   "cell_type": "code",
   "execution_count": null,
   "id": "4fc73606-8900-4337-8414-17eaa311d228",
   "metadata": {},
   "outputs": [],
   "source": [
    "### hier steht ihr Code"
   ]
  },
  {
   "cell_type": "markdown",
   "id": "378dbb32-c5d3-458a-950a-63d281c2c9a1",
   "metadata": {
    "tags": []
   },
   "source": [
    "## Die While-Schleife\n",
    "\n",
    "seltener genutzt als die For-Schleife, führt die While Schleife ihre Operationen aus bis eine Bedingung (hier x < 5) **nicht** mehr gegeben ist:"
   ]
  },
  {
   "cell_type": "code",
   "execution_count": null,
   "id": "b288926b-e8de-4202-902f-e9aac08f5027",
   "metadata": {},
   "outputs": [],
   "source": [
    "x = 0\n",
    "\n",
    "while x < 5:\n",
    "    x += 1\n",
    "    print(x)"
   ]
  },
  {
   "cell_type": "markdown",
   "id": "8ae825f8-af7f-41d7-8df9-6adc2da3c5b3",
   "metadata": {
    "tags": []
   },
   "source": [
    "## Bedingingen\n",
    "\n",
    "Falls einige Operationen nur unter bestimmten Bedingungen ausgeführt werden sollen, hilft das `if`-Statement. **Wie bei den Schleifen stehen die Operationen, die unter der Bedingung ausgeführt werden sollen eingerückt.** Möchte man alternativ Code ausführen falls die Bedingung nicht erfüllt ist, verwendet man das `else` Statement."
   ]
  },
  {
   "cell_type": "code",
   "execution_count": null,
   "id": "86b52dda-893e-4367-b1e7-42436b04973b",
   "metadata": {},
   "outputs": [],
   "source": [
    "x = 6\n",
    "if x > 5:\n",
    "    print(f\"x > 5: {x}\")\n",
    "else:\n",
    "    print(f\"x <= 5: {x}\")"
   ]
  },
  {
   "cell_type": "markdown",
   "id": "5436a239-3561-4d02-ba2f-535e03c2a33c",
   "metadata": {},
   "source": [
    "Bedingungen können auch mit Hilfe von logischen Operatoren komplex gestaltet werden:"
   ]
  },
  {
   "cell_type": "code",
   "execution_count": null,
   "id": "1a936b64-8a3a-44b2-9c87-cc1243a47c8d",
   "metadata": {},
   "outputs": [],
   "source": [
    "x = 4\n",
    "y = 5\n",
    "z = 6\n",
    "if (x > 4 and y < 7) or z == 6:\n",
    "    print(f\"oO\")"
   ]
  },
  {
   "cell_type": "markdown",
   "id": "341d035c-d722-4bc3-8209-4be0b4bf93ec",
   "metadata": {
    "tags": []
   },
   "source": [
    "Und in auch innerhalb von Schleifen eingesetzt werden. **Beachten Sie die weitere Einrückung der bedingten Operationen innerhalb der Schleife.**"
   ]
  },
  {
   "cell_type": "code",
   "execution_count": null,
   "id": "0107edde-210a-4f5b-a8c3-a4b732d51d12",
   "metadata": {},
   "outputs": [],
   "source": [
    "x = 0\n",
    "y = 5\n",
    "z = 6\n",
    "while x < 10:\n",
    "    if y < 7 or z == 6:\n",
    "        print(f\":)\")\n",
    "    else:\n",
    "        print(f\"(:\")\n",
    "    x += 1\n",
    "    y += 3\n",
    "    z *= 7\n"
   ]
  },
  {
   "cell_type": "markdown",
   "id": "98428241-0b9c-40a0-ae31-82c0708b9433",
   "metadata": {},
   "source": [
    "#### Aufgabe 2\n",
    "\n",
    "Schreiben Sie mit Hilfe einer der For-Schleife und Bedingungen einen Code, der für die für die Einkaufsliste ausgibt, wieviele Produkte in Summe (d.h. Summe der Menge über alle Produkte) von `Rewe` und wieviele vom `Wochenmarkt` eingekauft werden müssen. Schreiben Sie den Code so, dass die Liste beliebig viele Prudukte enthalten kann. "
   ]
  },
  {
   "cell_type": "code",
   "execution_count": null,
   "id": "f692909c-989f-4e5e-a152-483bb7228a7f",
   "metadata": {},
   "outputs": [],
   "source": [
    "### hier steht ihr Code"
   ]
  },
  {
   "cell_type": "markdown",
   "id": "1b7faca7-584c-4813-ac71-1c2c3c1839e5",
   "metadata": {
    "tags": []
   },
   "source": [
    "## Funktionen\n",
    "\n",
    "Funktionen sind ein Ansatz, Code der immer wiederverwendet wird nur einmal zu schreiben und später immer wieder aufzurufen. Die einfachste Form der Funktion besteht aus dem Schlüsselwort `def` gefolgt vom Namen der Funktion sowiw einem Klammernpaar und einem Doppelpunkt. Der Name der Funktion verhält sich wie ein Variablenname, er muss definiert sein und jede weitere Definition überschreibt die vorherige. **Man beachte, dass wie bei Schleifen und Bedingungen die Einrückung der Operatoinen die zur Funktion gehören.**"
   ]
  },
  {
   "cell_type": "code",
   "execution_count": null,
   "id": "7307d675-c80b-42ab-acd4-a5cc71e4dad5",
   "metadata": {},
   "outputs": [],
   "source": [
    "def hallo():\n",
    "    print('hallo')"
   ]
  },
  {
   "cell_type": "markdown",
   "id": "969b0609-b80b-4c3d-853a-ca376a3c8780",
   "metadata": {},
   "source": [
    "Nachdem eine Funktion definiert ist, kann sie verwendet werden. Dazu wird einfach der Name gefolt von einem Klammernpaar als Operation aufgeschrieben:"
   ]
  },
  {
   "cell_type": "code",
   "execution_count": null,
   "id": "824bc873-ddf4-4011-971c-246373c2350f",
   "metadata": {},
   "outputs": [],
   "source": [
    "hallo()"
   ]
  },
  {
   "cell_type": "code",
   "execution_count": null,
   "id": "9d2e7360-3792-4653-8a0c-931760e6bcff",
   "metadata": {},
   "outputs": [],
   "source": [
    "Hallo()"
   ]
  },
  {
   "cell_type": "markdown",
   "id": "3ac20566-b908-4d87-aa51-42b69dc272e1",
   "metadata": {
    "tags": []
   },
   "source": [
    "Eine Funktion kann auch mit parametern definiert werden. Parameter sind Variablen, die innerhalb der Funktion gültig sind. Sie werden innerhalb der Klammer durch Kommata getrennt aufgelistet und werden dann beim Aufruf der Funktion gesetzt."
   ]
  },
  {
   "cell_type": "code",
   "execution_count": null,
   "id": "da3e04eb-d3e1-428d-a7ba-472b57baee5e",
   "metadata": {},
   "outputs": [],
   "source": [
    "def addiere(a, b):\n",
    "    c = a + b\n",
    "    print(f\"{a} + {b} = {c}\")\n",
    "    \n",
    "addiere(3, 4)"
   ]
  },
  {
   "cell_type": "markdown",
   "id": "7c407796-7a1d-40c0-84e6-9d8a518ebddb",
   "metadata": {},
   "source": [
    "Schließlich kann die Funktion auch einen Rückgabewert haben, dieser Wert wird mit dem Schlüsselwort `return` bestimmt. Ist er nicht bestimmt, ist der Rückgabewert einer Funktion automatisch `None`. Der Rückagebwert einer Funktion kann beim Aufruf einer Variable zugewiesen werden:"
   ]
  },
  {
   "cell_type": "code",
   "execution_count": null,
   "id": "d887c0af-af64-42dc-9fc8-d0ad00eba953",
   "metadata": {
    "editable": false,
    "slideshow": {
     "slide_type": ""
    },
    "tags": []
   },
   "outputs": [],
   "source": [
    "ergebnis = addiere(1, 9)\n",
    "print(ergebnis)"
   ]
  },
  {
   "cell_type": "code",
   "execution_count": null,
   "id": "86840b19-a899-48b8-bd00-95327e501cb1",
   "metadata": {
    "editable": true,
    "slideshow": {
     "slide_type": ""
    },
    "tags": []
   },
   "outputs": [],
   "source": [
    "def multipliziere(a, b):\n",
    "    c = a * b\n",
    "    return c\n",
    "    \n",
    "ergebnis = multipliziere(3, 4)\n",
    "print(ergebnis)"
   ]
  },
  {
   "cell_type": "markdown",
   "id": "a052961d-cf7c-47fc-a8a9-2157dc934481",
   "metadata": {
    "tags": []
   },
   "source": [
    "Möchte man von einer Funktion mehrere Werte zurückgeben, kann man das zum Beispeil als Tupel machen. Dabei werden alle Werte die zurückgegben werden sollen, einfach in klammern gesetzt und durch Kommata getrennt:"
   ]
  },
  {
   "cell_type": "code",
   "execution_count": null,
   "id": "0a2959ab-c621-4da2-9c8d-9184106f654c",
   "metadata": {},
   "outputs": [],
   "source": [
    "def division_mit_rest(a, b):\n",
    "    d = a // b\n",
    "    rest = a % b\n",
    "    return (d, rest)\n",
    "    \n",
    "ergebnis = division_mit_rest(7, 3)\n",
    "print(ergebnis)"
   ]
  },
  {
   "cell_type": "markdown",
   "id": "8d6bfad2-0fc2-42a7-a377-a2c24b533cee",
   "metadata": {},
   "source": [
    "### Rekursion\n",
    "\n",
    "Eine anspruchsvolle, aber elegante Möglichkeit ist der rekursive aufruf von Funktionen. Wir zeigen einen einfachen Anwendungsfall anhand der berechnung der Fakultät (oft geschriben als N!). Die ist für jede natürliche Zahl definiert als das Produkt dieser und aller kleineren natürlichen Zahlen:\n",
    "\n",
    "9! = 8*7*6*5*4*3*2*1\n",
    "\n",
    "Wir wollen nun eine Funktion schreiben, welche die Fakultät für beliebige N berechnet. Eine offensichtliche Lösung zur Berechnung ist natürlich eine Schleife. Eine andere Lösung ist die folgende:"
   ]
  },
  {
   "cell_type": "code",
   "execution_count": null,
   "id": "80f33598-c4f0-4017-889b-6b2ab5a53212",
   "metadata": {},
   "outputs": [],
   "source": [
    "def fac(n):\n",
    "    if n in [0, 1]:\n",
    "        f = n\n",
    "    else:\n",
    "        f = n * fac(n-1)\n",
    "    return f\n",
    "    \n",
    "fac(9)"
   ]
  },
  {
   "cell_type": "markdown",
   "id": "cbbc4868-09d6-4486-9d69-0a6b54501bb4",
   "metadata": {},
   "source": [
    "Um besser zu verstehen, was hinter den Kulissen passiert, erweitern wir die Funktion etwas und geben den Baum der Aufrufe aus:"
   ]
  },
  {
   "cell_type": "code",
   "execution_count": null,
   "id": "22ae5286-11f2-40b8-bd80-95be86f14d85",
   "metadata": {},
   "outputs": [],
   "source": [
    "def fac(n, r):\n",
    "    indent = r * \" \"\n",
    "    print(f\"{indent}fac({n})\")\n",
    "    if n < 0:\n",
    "        return\n",
    "    if n in [0, 1]:\n",
    "        f = n\n",
    "    else:\n",
    "        r += 1\n",
    "        f = n * fac(n-1, r)\n",
    "        print(f\"# {indent} {f} = {n} * fib({(n - 1)})\")\n",
    "    return f\n",
    "\n",
    "fac(10, 0)"
   ]
  },
  {
   "cell_type": "markdown",
   "id": "735ac339-b633-40cd-92dd-58d1a88ecabf",
   "metadata": {},
   "source": [
    "#### Aufgabe 3 \n",
    "- Unten sind zwei Sudoku-Spielfeldwe als Liste von Listen definiert. Wir erinnern uns vom letzten Arbeitsblatt, dass Listen von Listen über zwei Indizes, nämlich für Zeile und Spalte verfügen.\n",
    "- Ihre Aufgabe ist es, eine Funktion mit dem Namen `ausgeben` zu schreiben, die einen Parameter mit beliebigem Namen hat in dem ein Spiel übergeben wird.\n",
    "- Die Funktion soll das Sudoku mit Hilfe von `print()` ausgeben. \n",
    "- Hinweis: Am besten nutzen Sie eine `For schleife` um eine Zeile des Speilfelds nach der anderen auszugeben.\n",
    "- Testen Sie ihre Funktion  mit dem Aufruf unten"
   ]
  },
  {
   "cell_type": "code",
   "execution_count": null,
   "id": "99f7c54e-9d1b-4137-8d43-8a2ceb0aa0ff",
   "metadata": {
    "tags": []
   },
   "outputs": [],
   "source": [
    "### Hier steht ihr Code"
   ]
  },
  {
   "cell_type": "code",
   "execution_count": null,
   "id": "eef4026e-a1ca-4132-b3e5-0c5fa983b5b2",
   "metadata": {},
   "outputs": [],
   "source": [
    "spiel1 = [\n",
    "[5, 3, 0, 0, 7, 0, 0, 0, 0],\n",
    "[6, 0, 0, 1, 9, 5, 0, 0, 0],\n",
    "[0, 9, 8, 0, 0, 0, 0, 6, 0],\n",
    "[8, 0, 0, 0, 6, 0, 0, 0, 3],\n",
    "[4, 0, 0, 8, 0, 3, 0, 0, 1],\n",
    "[7, 0, 0, 0, 2, 0, 0, 0, 6],\n",
    "[0, 6, 0, 0, 0, 0, 2, 8, 0],\n",
    "[0, 0, 0, 4, 1, 9, 0, 0, 5],\n",
    "[0, 0, 0, 0, 8, 0, 0, 7, 9]]\n",
    "\n",
    "spiel1_lösung = [\n",
    "[5, 3, 4, 6, 7, 8, 9, 1, 2],\n",
    "[6, 7, 2, 1, 9, 5, 3, 4, 8],\n",
    "[1, 9, 8, 3, 4, 2, 5, 6, 7],\n",
    "[8, 5, 9, 7, 6, 1, 4, 2, 3],\n",
    "[4, 2, 6, 8, 5, 3, 7, 9, 1],\n",
    "[7, 1, 3, 9, 2, 4, 8, 5, 6],\n",
    "[9, 6, 1, 5, 3, 7, 2, 8, 4],\n",
    "[2, 8, 7, 4, 1, 9, 6, 3, 5],\n",
    "[3, 4, 5, 2, 8, 6, 1, 7, 9]]"
   ]
  },
  {
   "cell_type": "code",
   "execution_count": null,
   "id": "969162bc-425a-4a01-bc3b-254fa519387f",
   "metadata": {},
   "outputs": [],
   "source": [
    "#Test\n",
    "ausgeben(spiel1)\n",
    "print(\"==================\")\n",
    "ausgeben(spiel1_lösung)"
   ]
  },
  {
   "cell_type": "markdown",
   "id": "eaef5f07-1122-4d1d-8728-28e4cab9a01d",
   "metadata": {},
   "source": [
    "#### Aufgabe 4\n",
    "- Schreiben Sie eine Funktion mit dem Namen `freies_feld`, die die Position einens freien Felds auf einem Suduko-Spiel zurückkgibt\n",
    "- die Funktion soll einen Parameter besitzen, mit dem das Spielfeld übergeben wird.\n",
    "- Der Rückgabewert der Funktion soll aus zwei Werten bestehen, nämlich Zeile und Spalte\n",
    "- Falls auf einem Sudoku kein Freies Feld gefunden wird, soll für zeile und Spalte jeweils -1 zurückgegeben werden.\n",
    "- Rufen Sie ihre Funktion mit `spiel1`, auf und prüfen sie, ob ein freies Feld zurückgegeben wird\n",
    "- Rufen Sie ihre Funktion mit `spiel1_lösung`, auf und prüfen sie, ob -1, -1 zurückgegeben wird."
   ]
  },
  {
   "cell_type": "code",
   "execution_count": null,
   "id": "78b4355e-5c1c-45a0-8139-6eccca363383",
   "metadata": {},
   "outputs": [],
   "source": [
    "### Hier steht ihr Code"
   ]
  },
  {
   "cell_type": "code",
   "execution_count": null,
   "id": "b39e3275-f9df-4069-af2f-0d3b09c77be8",
   "metadata": {},
   "outputs": [],
   "source": [
    "#Test\n",
    "assert freies_feld(spiel1) != (-1, -1)\n",
    "assert freies_feld(spiel1_lösung) == (-1, -1)\n",
    "print(\"PASS\")"
   ]
  },
  {
   "cell_type": "markdown",
   "id": "c7809329-1acb-4939-a76a-2388cd197135",
   "metadata": {},
   "source": [
    "#### Aufgabe 5\n",
    "- Schreiben Sie eine Funktion, die das Sudoku Löst\n",
    "- Überlegen Sie zunächst, in welchen Schritten sie selbst ein Sudoku lösen würden\n",
    "- Als Hilfsfunktion haben sie bereits `freies_feld()` definiert, unten ist zusätzlich `gültig()` vorgegeben. Diese Funktion prüft, ob für ein Spiel (Parameter `sudoku`) ein bestimmtes Feld (Parameter `z_index` und, `s_index`) eine bestimmte Zahl (Parameter `zahl`) gesetzt werden darf. Der Rückgabewert der funktion ist entweder `True` oder `False`. \n",
    "- Schreiben Sie nun selbst die Funktion `lösen`, die als Parameter ein Sudoku bekommt und `True` zurückgibt, falls das Sudoku geköst wurde und `False` andernfalls.\n",
    "- Testen Sie ihre Funktion mit dem o.g. Sudoku.\n",
    "- Hinweise:\n",
    "     - Ihre Funktion sollte die Zahlen in das übergebene Spielfeld einsetzen und es nicht kopieren. Entsprechend müssen Sie auch das Spielfeld ggfs. neu laden (die Zelle mit der Definition von Spiel und Lösung erneut ausführen)"
   ]
  },
  {
   "cell_type": "code",
   "execution_count": null,
   "id": "5e565609-56f4-4b25-aeac-5e80e07bae9f",
   "metadata": {},
   "outputs": [],
   "source": [
    "def gültig(sudoku, z_index, s_index, zahl):\n",
    "    zeile = sudoku[z_index]\n",
    "    \n",
    "    if zahl in zeile:\n",
    "        return False\n",
    "    \n",
    "    spalte = [zeile[s_index] for zeile in sudoku]\n",
    "    \n",
    "    if zahl in spalte:\n",
    "        return False\n",
    "    \n",
    "    feld_zeile_start = 3 * (z_index // 3) \n",
    "    feld_spalte_start = 3 * (s_index // 3) \n",
    "    for feld_zeile in range(feld_zeile_start, feld_zeile_start + 3):\n",
    "        for feld_spalte in range(feld_spalte_start, feld_spalte_start + 3):\n",
    "            if sudoku[feld_zeile][feld_spalte] == zahl:\n",
    "                return False\n",
    "                \n",
    "    return True"
   ]
  },
  {
   "cell_type": "code",
   "execution_count": null,
   "id": "3bfac2d0-6001-4397-8cab-34cedee86adb",
   "metadata": {},
   "outputs": [],
   "source": [
    "### Hier steht ihr Code"
   ]
  },
  {
   "cell_type": "code",
   "execution_count": null,
   "id": "f1b19b4b-c41b-4c6b-b29a-9f851ee8e6ed",
   "metadata": {},
   "outputs": [],
   "source": [
    "#Test\n",
    "ausgeben(spiel1)\n",
    "assert lösen(spiel1) is True\n",
    "assert spiel1 == spiel1_lösung\n",
    "ausgeben(spiel1_lösung)\n",
    "print(\"PASS\")"
   ]
  },
  {
   "cell_type": "code",
   "execution_count": null,
   "id": "26aa3f4e-0ed3-4ba1-806f-5dea969d5e60",
   "metadata": {},
   "outputs": [],
   "source": []
  }
 ],
 "metadata": {
  "kernelspec": {
   "display_name": "Python 3 (ipykernel)",
   "language": "python",
   "name": "python3"
  },
  "language_info": {
   "codemirror_mode": {
    "name": "ipython",
    "version": 3
   },
   "file_extension": ".py",
   "mimetype": "text/x-python",
   "name": "python",
   "nbconvert_exporter": "python",
   "pygments_lexer": "ipython3",
   "version": "3.10.10"
  }
 },
 "nbformat": 4,
 "nbformat_minor": 5
}
