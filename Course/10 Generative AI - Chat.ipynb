{
 "cells": [
  {
   "cell_type": "markdown",
   "id": "54de7403-3218-4fab-86d8-88df81b441ff",
   "metadata": {},
   "source": [
    "# Nutzung Generativer KI"
   ]
  },
  {
   "cell_type": "markdown",
   "id": "fd35e2cc-7171-4332-a5a6-7d409118c5bf",
   "metadata": {},
   "source": [
    "## Sprachmodelle"
   ]
  },
  {
   "cell_type": "markdown",
   "id": "26c5aebc-f22e-4b6f-8ddf-bc75eba59212",
   "metadata": {},
   "source": [
    "Wir beginnen mit großen Sprachmodellen (Large Language Models, LLMs). Das sind Sprachmodelle, die grundsätzlich so funktionieren, wie die hier im Kurs erarbeiteten. Es gibt ganz verschiedene Modelle, in diesem Kurs verwenden wir die Modelle aus der Gemini Reihe von Google. Die Modelle unterscheiden sich in ihren Fähigkeiten bestimmte Aufgaben bewältigen zu können, in ihrer Geschwindigkeit und auch ihren Nutzungskosten. Vergleiche zwischen den Modellen sind noch nicht standardisiert und zuverlässig, es gibt aber erste [Anhaltspunkte](https://artificialanalysis.ai/models)."
   ]
  },
  {
   "cell_type": "markdown",
   "id": "74435773-4efb-4f7c-8cf8-35c410b9910d",
   "metadata": {},
   "source": [
    "#### Aufgabe 1\n",
    "Diese Modelle stecken hinter allen AI Apps in den App Stores und im Internet. Einige dieser angebote sind kostenlos, obwohl die Modelle bezahlt werden müssen.\n",
    "##### 2 Punkte\n",
    "\n",
    "- F: Wie kann das sein?\n",
    "- A:\n"
   ]
  },
  {
   "cell_type": "code",
   "execution_count": null,
   "id": "92a3f3aa-cd3c-4a48-9258-ee9424563ddb",
   "metadata": {},
   "outputs": [],
   "source": [
    "from genai.llm import LLM"
   ]
  },
  {
   "cell_type": "code",
   "execution_count": null,
   "id": "1c242c8d-1776-4008-84c3-97ca81693e62",
   "metadata": {},
   "outputs": [],
   "source": [
    "llm = LLM()\n",
    "model = \"gemini-2.5-flash-lite\""
   ]
  },
  {
   "cell_type": "code",
   "execution_count": null,
   "id": "c5f21898-c30a-4905-95d1-b7ce8e81d5f9",
   "metadata": {},
   "outputs": [],
   "source": [
    "prompt = \"Ist Sport gesund?\"\n",
    "llm.generate(model, prompt)"
   ]
  },
  {
   "cell_type": "code",
   "execution_count": null,
   "id": "435d6035-ed1c-4e53-8da2-713c5e7ebe9e",
   "metadata": {},
   "outputs": [],
   "source": [
    "prompt = \"Ist Sport gesund? Fass Dich kurz!\"\n",
    "llm.generate(model, prompt)"
   ]
  },
  {
   "cell_type": "code",
   "execution_count": null,
   "id": "e3b997a3-0461-4ce5-8ce0-002429266737",
   "metadata": {},
   "outputs": [],
   "source": [
    "prompt = \"Was habe ich dich gerade gefragt?\"\n",
    "llm.generate(model, prompt)"
   ]
  },
  {
   "cell_type": "markdown",
   "id": "4078a9c3-1139-4f79-918f-a6f9b7cb5c75",
   "metadata": {},
   "source": [
    "#### Aufgabe 2\n",
    "Schauen Sie sich den Code in den beiden Zellen oberhalb an. Es wird immer eine Variable *prompt* erzeugt, die dann dem LLM übergeben wird. Führen Sie die Zellen aus und achten Sie auf die Antwort.\n",
    "\n",
    "##### 1 + 1 + 2 Punkte\n",
    "\n",
    "- F: Beschreiben Sie die Variable \"Prompt\" mit eigenen Worten\n",
    "- A:\n",
    "- F: Was bedeutet prompt_token_count, candidates_token_count und total_token_count?\n",
    "- A:\n",
    "- F: Warum weiss das Modell nicht, was wir gerade gefragt haben?\n",
    "- A: \n"
   ]
  },
  {
   "cell_type": "markdown",
   "id": "a7c64d02-8172-489b-9625-7732e63f3f2a",
   "metadata": {},
   "source": [
    "## Erzeugen einer Chat Session"
   ]
  },
  {
   "cell_type": "code",
   "execution_count": null,
   "id": "21b42ac4-bbdb-48ac-ba6c-bf86344037ec",
   "metadata": {},
   "outputs": [],
   "source": [
    "from genai.chat import ChatSession"
   ]
  },
  {
   "cell_type": "code",
   "execution_count": null,
   "id": "5a1a8285-83d9-4883-a7e3-7058a67afcc2",
   "metadata": {},
   "outputs": [],
   "source": [
    "chat = ChatSession()\n",
    "model = \"gemini-2.5-flash-lite\""
   ]
  },
  {
   "cell_type": "code",
   "execution_count": null,
   "id": "d256638c-6858-41ce-99b4-53859de03918",
   "metadata": {},
   "outputs": [],
   "source": [
    "system_instruction = \"\"\"\n",
    "\"\"\""
   ]
  },
  {
   "cell_type": "code",
   "execution_count": null,
   "id": "ce54a7f1-b6e6-48f7-886b-ca3c633e51fa",
   "metadata": {},
   "outputs": [],
   "source": [
    "chat.start(system_instruction, model)"
   ]
  },
  {
   "cell_type": "code",
   "execution_count": null,
   "id": "aab78f41-3913-48e7-9643-ef1da2f2feba",
   "metadata": {},
   "outputs": [],
   "source": [
    "chat.chat(\"Wer bist Du?\")"
   ]
  },
  {
   "cell_type": "code",
   "execution_count": null,
   "id": "90610322-f91e-4991-8bd4-c121b5c0acda",
   "metadata": {},
   "outputs": [],
   "source": [
    "chat.chat(\"Wer ist Ski Aggu?\")"
   ]
  },
  {
   "cell_type": "markdown",
   "id": "9f246c22-7d1f-492f-a3f1-7bf1112664aa",
   "metadata": {},
   "source": [
    "## Die System Instruction"
   ]
  },
  {
   "cell_type": "code",
   "execution_count": null,
   "id": "e78b37f6-2462-4733-87cc-1e913767b8e9",
   "metadata": {},
   "outputs": [],
   "source": [
    "system_instruction = \"\"\"\n",
    "Du bist der Rapper 'Ski Aggu'. Du beantwortest die Fragen Deiner Fans.\n",
    "\"\"\""
   ]
  },
  {
   "cell_type": "code",
   "execution_count": null,
   "id": "f977ef9e-c948-4d07-8aab-dbb6a023ed37",
   "metadata": {},
   "outputs": [],
   "source": [
    "chat.start(system_instruction, model)"
   ]
  },
  {
   "cell_type": "code",
   "execution_count": null,
   "id": "8b5c2a09-a830-402c-9212-8153c2fa52e6",
   "metadata": {},
   "outputs": [],
   "source": [
    "chat.chat(\"Wer bist Du?\")"
   ]
  },
  {
   "cell_type": "code",
   "execution_count": null,
   "id": "1a8517e4-67a4-49de-a003-9ba3107ea159",
   "metadata": {},
   "outputs": [],
   "source": [
    "chat.chat(\"Ich glaub nicht, dass Du Ski Agu bist!\")"
   ]
  },
  {
   "cell_type": "markdown",
   "id": "7dd3485e-7a7a-4634-a282-7b158b48a48f",
   "metadata": {},
   "source": [
    "#### Aufgabe 3\n",
    "Schreiben Sie eine Instruktion für einen Chatagenten der eine Rolle Ihrer Wahl spielt. Testen Sie ihn mit der vordefinierten Frage: \"Wer bist Du?\"\n",
    "##### 1 Punkt"
   ]
  },
  {
   "cell_type": "code",
   "execution_count": null,
   "id": "86bea862-5dc4-4a63-b35e-59a4588cc443",
   "metadata": {},
   "outputs": [],
   "source": [
    "### hier steht ihr Code"
   ]
  },
  {
   "cell_type": "code",
   "execution_count": null,
   "id": "151b32be-d268-450c-b483-987763ce2373",
   "metadata": {},
   "outputs": [],
   "source": [
    "chat.chat(\"Wer bist Du?\")"
   ]
  },
  {
   "cell_type": "markdown",
   "id": "b54cb10c-492c-4abe-8e3e-94d93f4f4fbd",
   "metadata": {},
   "source": [
    "#### Aufgabe 4\n",
    "Erstellen Sie eine Konversation mit fünf Nachrichten, um den Agenten zu testen.\n",
    "##### 5 Punkte"
   ]
  },
  {
   "cell_type": "code",
   "execution_count": null,
   "id": "b3a9b1e0-5bb9-4616-959d-7c75d8a21b02",
   "metadata": {},
   "outputs": [],
   "source": [
    "### hier steht ihr Code - Frage 1"
   ]
  },
  {
   "cell_type": "code",
   "execution_count": null,
   "id": "72d2810d-56e2-40e2-9910-1e290565b6dc",
   "metadata": {},
   "outputs": [],
   "source": [
    "### hier steht ihr Code - Frage 2"
   ]
  },
  {
   "cell_type": "code",
   "execution_count": null,
   "id": "fc953437-181f-4c04-aebd-5b96403b1595",
   "metadata": {},
   "outputs": [],
   "source": [
    "### hier steht ihr Code - Frage 3"
   ]
  },
  {
   "cell_type": "code",
   "execution_count": null,
   "id": "a55dee8b-f99f-4f18-980c-477a95ac7de8",
   "metadata": {},
   "outputs": [],
   "source": [
    "### hier steht ihr Code - Frage 4"
   ]
  },
  {
   "cell_type": "code",
   "execution_count": null,
   "id": "a78d11ef-c908-4182-a065-933552621da8",
   "metadata": {},
   "outputs": [],
   "source": [
    "### hier steht ihr Code - Frage 5"
   ]
  },
  {
   "cell_type": "markdown",
   "id": "5e397acf-7047-443a-99f0-7f0eb09e2532",
   "metadata": {},
   "source": [
    "## Bilderzeugung\n",
    "\n",
    "Auch wenn wir uns in diesem Kurs nicht mit Modell zur Erzeugung von Bildern beschäftigt haben, wollen wir uns einmal kurz die Nutzung anschazen. "
   ]
  },
  {
   "cell_type": "code",
   "execution_count": null,
   "id": "c03a892f-a6a8-401d-8626-27c5255496cb",
   "metadata": {},
   "outputs": [],
   "source": [
    "from vertexai.preview.vision_models import ImageGenerationModel\n",
    "import os\n",
    "generation_model = ImageGenerationModel.from_pretrained(\"imagen-4.0-fast-generate-001\")\n",
    "\n",
    "prompt = \"Ein rotes schiff auf dem blauen Meer\"\n",
    "negative_prompt = \"Wolken am Himmel\"\n",
    "\n",
    "response = generation_model.generate_images(\n",
    "    prompt=prompt,\n",
    "    negative_prompt=negative_prompt,\n",
    "    add_watermark=True,\n",
    "    language=\"auto\",\n",
    "    aspect_ratio=\"4:3\",\n",
    "    safety_filter_level=\"block_low_and_above\",\n",
    "    person_generation=\"allow_adult\"\n",
    ")\n",
    "\n",
    "files = [filename for filename in os.listdir('.') if filename.startswith('imagen_')]\n",
    "files.sort()\n",
    "\n",
    "if len(files) == 0:\n",
    "    index = 1\n",
    "else:\n",
    "    index = int(files[-1].split('.')[0].split('_')[-1]) + 1\n",
    "output_file = f\"imagen_{index}.png\"\n",
    "\n",
    "\n",
    "response.images[0].save(location=output_file, include_generation_parameters=False)\n",
    "response.images[0].show()"
   ]
  },
  {
   "cell_type": "markdown",
   "id": "d9a3c015-16fe-4891-8402-5a78b8af0222",
   "metadata": {},
   "source": [
    "#### Aufgabe 5\n",
    "\n",
    "##### 1 + 2 + 3 Punkte\n",
    "\n",
    "Verändern Sie den Code oben, um mehrere Bilder ihrer Wahl zu erzeugen. \n",
    "- F: Was müssen sie am Code verändern, um die Bilder ihrer Wahl zu erzeugen?\n",
    "- A:\n",
    "- F: Versuchen sie das selbe Bild zu erzeugen wie ihr:e Sitznachbar:in. Gelingt es?\n",
    "- A:\n",
    "- F: Was funktioniert aus ihrer Sicht nicht gut?\n",
    "- A:"
   ]
  },
  {
   "cell_type": "code",
   "execution_count": null,
   "id": "e3988d2e-a0ea-464b-893a-cdcc58f3014b",
   "metadata": {},
   "outputs": [],
   "source": []
  },
  {
   "cell_type": "code",
   "execution_count": null,
   "id": "5e49a3e5-0ced-4789-8e4a-b08844e0560c",
   "metadata": {},
   "outputs": [],
   "source": []
  },
  {
   "cell_type": "code",
   "execution_count": null,
   "id": "3507af6e-8688-4ac9-bd79-c0484b34e421",
   "metadata": {},
   "outputs": [],
   "source": []
  }
 ],
 "metadata": {
  "kernelspec": {
   "display_name": "Python 3 (ipykernel)",
   "language": "python",
   "name": "python3"
  },
  "language_info": {
   "codemirror_mode": {
    "name": "ipython",
    "version": 3
   },
   "file_extension": ".py",
   "mimetype": "text/x-python",
   "name": "python",
   "nbconvert_exporter": "python",
   "pygments_lexer": "ipython3",
   "version": "3.10.10"
  }
 },
 "nbformat": 4,
 "nbformat_minor": 5
}
