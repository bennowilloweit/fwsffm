{
 "cells": [
  {
   "cell_type": "markdown",
   "id": "0270a3f5-2c61-43b5-9794-ec4c0a6fdc3e",
   "metadata": {
    "deletable": false,
    "editable": false,
    "slideshow": {
     "slide_type": ""
    },
    "tags": []
   },
   "source": [
    "# Über diesen Kurs\n",
    "\n",
    "Der Kurs besteht aus interaktiven Arbeitsblättern mit Codebeispielen und Aufgaben. Die einzelnen Arbeitsblätter bauen aufeinander auf. Ziel ist es, ein grundverständnis der Programmierung von Rechnern, der prinzipiellen Funktionsweise von KI und der Anwendung zu vermitteln."
   ]
  },
  {
   "cell_type": "markdown",
   "id": "ac46edf6-32ac-423e-bfb1-7b060187d99d",
   "metadata": {
    "deletable": false,
    "editable": false,
    "tags": []
   },
   "source": [
    "## Kursübersicht\n",
    "\n",
    "- **Python 101**\n",
    "\n",
    "  Sie lernen auf drei interaktiven Arbeitsblättern die Basics der Programmiersprache Python.\n",
    "- **Data Science 101**\n",
    "\n",
    "  Sie erlernen einfache Methoden zum Laden und Visualisieren von Daten und dem Erstellen von Prognosemodellen\n",
    "- **Deep Learning 101**\n",
    "\n",
    "    Sie lernen die prinzipielle Funktionsweise von neuronalen Netzen kennen und programmieren und trainieren ihr erstes neuronales Netz.\n",
    "- **Age of AI**\n",
    "\n",
    "    Sie erlernen den effektiven Umgang mit (generativer) Künstlicher Intelligenz und wir diskutieren ethische Implikationen"
   ]
  },
  {
   "cell_type": "markdown",
   "id": "424844d6-f2ae-4595-a715-b8eaf7433d35",
   "metadata": {
    "deletable": false,
    "editable": false,
    "tags": []
   },
   "source": [
    "## Inhalte der Arbeitsblätter\n",
    "\n",
    "Jedes Arbeitsblatt des Kurses besteht aus einzelnen Zellen, die mit dem Pfeil in der Menüleiste ausgeführt werden. Manche Zellen müssen Sie bearbeiten, dann steht dort der Kommentar `# hier steht Ihr Code`. Um ihre Änderungen am Arbeitsblatt zu speichern, drücken Sie `Strg + s`."
   ]
  },
  {
   "cell_type": "code",
   "execution_count": null,
   "id": "1ba4a3b1-1a45-4103-9c52-a89643f551b4",
   "metadata": {},
   "outputs": [],
   "source": [
    "Hier steht ihr Name:"
   ]
  },
  {
   "cell_type": "code",
   "execution_count": null,
   "id": "882af19a-be51-403f-9bad-3bf8832d3056",
   "metadata": {},
   "outputs": [],
   "source": []
  }
 ],
 "metadata": {
  "kernelspec": {
   "display_name": "Python 3 (ipykernel)",
   "language": "python",
   "name": "python3"
  },
  "language_info": {
   "codemirror_mode": {
    "name": "ipython",
    "version": 3
   },
   "file_extension": ".py",
   "mimetype": "text/x-python",
   "name": "python",
   "nbconvert_exporter": "python",
   "pygments_lexer": "ipython3",
   "version": "3.10.10"
  }
 },
 "nbformat": 4,
 "nbformat_minor": 5
}
